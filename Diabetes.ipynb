{
  "nbformat": 4,
  "nbformat_minor": 0,
  "metadata": {
    "colab": {
      "name": "Diabetes.ipynb",
      "provenance": []
    },
    "kernelspec": {
      "name": "python3",
      "display_name": "Python 3"
    },
    "language_info": {
      "name": "python"
    }
  },
  "cells": [
    {
      "cell_type": "code",
      "metadata": {
        "id": "TNUAX9zGVF13"
      },
      "source": [
        "import numpy as np\n",
        "import pandas as pd\n",
        "import seaborn as sns\n",
        "import matplotlib.pyplot as plt\n",
        "%matplotlib inline\n",
        "from sklearn.preprocessing import MinMaxScaler\n",
        "import tensorflow as tf\n",
        "from tensorflow import keras"
      ],
      "execution_count": 196,
      "outputs": []
    },
    {
      "cell_type": "code",
      "metadata": {
        "id": "PIng1yCQbJCL"
      },
      "source": [
        "df=pd.read_csv(\"diabetes.csv\")"
      ],
      "execution_count": 197,
      "outputs": []
    },
    {
      "cell_type": "code",
      "metadata": {
        "colab": {
          "base_uri": "https://localhost:8080/",
          "height": 204
        },
        "id": "jT2RpACDb4Xp",
        "outputId": "5e7f25cb-9e6b-49c3-9140-2e79940396ce"
      },
      "source": [
        "df.head()"
      ],
      "execution_count": 198,
      "outputs": [
        {
          "output_type": "execute_result",
          "data": {
            "text/html": [
              "<div>\n",
              "<style scoped>\n",
              "    .dataframe tbody tr th:only-of-type {\n",
              "        vertical-align: middle;\n",
              "    }\n",
              "\n",
              "    .dataframe tbody tr th {\n",
              "        vertical-align: top;\n",
              "    }\n",
              "\n",
              "    .dataframe thead th {\n",
              "        text-align: right;\n",
              "    }\n",
              "</style>\n",
              "<table border=\"1\" class=\"dataframe\">\n",
              "  <thead>\n",
              "    <tr style=\"text-align: right;\">\n",
              "      <th></th>\n",
              "      <th>Pregnancies</th>\n",
              "      <th>Glucose</th>\n",
              "      <th>BloodPressure</th>\n",
              "      <th>SkinThickness</th>\n",
              "      <th>Insulin</th>\n",
              "      <th>BMI</th>\n",
              "      <th>DiabetesPedigreeFunction</th>\n",
              "      <th>Age</th>\n",
              "      <th>Outcome</th>\n",
              "    </tr>\n",
              "  </thead>\n",
              "  <tbody>\n",
              "    <tr>\n",
              "      <th>0</th>\n",
              "      <td>6</td>\n",
              "      <td>148</td>\n",
              "      <td>72</td>\n",
              "      <td>35</td>\n",
              "      <td>0</td>\n",
              "      <td>33.6</td>\n",
              "      <td>0.627</td>\n",
              "      <td>50</td>\n",
              "      <td>1</td>\n",
              "    </tr>\n",
              "    <tr>\n",
              "      <th>1</th>\n",
              "      <td>1</td>\n",
              "      <td>85</td>\n",
              "      <td>66</td>\n",
              "      <td>29</td>\n",
              "      <td>0</td>\n",
              "      <td>26.6</td>\n",
              "      <td>0.351</td>\n",
              "      <td>31</td>\n",
              "      <td>0</td>\n",
              "    </tr>\n",
              "    <tr>\n",
              "      <th>2</th>\n",
              "      <td>8</td>\n",
              "      <td>183</td>\n",
              "      <td>64</td>\n",
              "      <td>0</td>\n",
              "      <td>0</td>\n",
              "      <td>23.3</td>\n",
              "      <td>0.672</td>\n",
              "      <td>32</td>\n",
              "      <td>1</td>\n",
              "    </tr>\n",
              "    <tr>\n",
              "      <th>3</th>\n",
              "      <td>1</td>\n",
              "      <td>89</td>\n",
              "      <td>66</td>\n",
              "      <td>23</td>\n",
              "      <td>94</td>\n",
              "      <td>28.1</td>\n",
              "      <td>0.167</td>\n",
              "      <td>21</td>\n",
              "      <td>0</td>\n",
              "    </tr>\n",
              "    <tr>\n",
              "      <th>4</th>\n",
              "      <td>0</td>\n",
              "      <td>137</td>\n",
              "      <td>40</td>\n",
              "      <td>35</td>\n",
              "      <td>168</td>\n",
              "      <td>43.1</td>\n",
              "      <td>2.288</td>\n",
              "      <td>33</td>\n",
              "      <td>1</td>\n",
              "    </tr>\n",
              "  </tbody>\n",
              "</table>\n",
              "</div>"
            ],
            "text/plain": [
              "   Pregnancies  Glucose  BloodPressure  ...  DiabetesPedigreeFunction  Age  Outcome\n",
              "0            6      148             72  ...                     0.627   50        1\n",
              "1            1       85             66  ...                     0.351   31        0\n",
              "2            8      183             64  ...                     0.672   32        1\n",
              "3            1       89             66  ...                     0.167   21        0\n",
              "4            0      137             40  ...                     2.288   33        1\n",
              "\n",
              "[5 rows x 9 columns]"
            ]
          },
          "metadata": {
            "tags": []
          },
          "execution_count": 198
        }
      ]
    },
    {
      "cell_type": "code",
      "metadata": {
        "colab": {
          "base_uri": "https://localhost:8080/",
          "height": 296
        },
        "id": "LJvwLZXsb9Cd",
        "outputId": "21658179-f90c-40d5-9879-7c312e6f468e"
      },
      "source": [
        "df.describe()"
      ],
      "execution_count": 199,
      "outputs": [
        {
          "output_type": "execute_result",
          "data": {
            "text/html": [
              "<div>\n",
              "<style scoped>\n",
              "    .dataframe tbody tr th:only-of-type {\n",
              "        vertical-align: middle;\n",
              "    }\n",
              "\n",
              "    .dataframe tbody tr th {\n",
              "        vertical-align: top;\n",
              "    }\n",
              "\n",
              "    .dataframe thead th {\n",
              "        text-align: right;\n",
              "    }\n",
              "</style>\n",
              "<table border=\"1\" class=\"dataframe\">\n",
              "  <thead>\n",
              "    <tr style=\"text-align: right;\">\n",
              "      <th></th>\n",
              "      <th>Pregnancies</th>\n",
              "      <th>Glucose</th>\n",
              "      <th>BloodPressure</th>\n",
              "      <th>SkinThickness</th>\n",
              "      <th>Insulin</th>\n",
              "      <th>BMI</th>\n",
              "      <th>DiabetesPedigreeFunction</th>\n",
              "      <th>Age</th>\n",
              "      <th>Outcome</th>\n",
              "    </tr>\n",
              "  </thead>\n",
              "  <tbody>\n",
              "    <tr>\n",
              "      <th>count</th>\n",
              "      <td>768.000000</td>\n",
              "      <td>768.000000</td>\n",
              "      <td>768.000000</td>\n",
              "      <td>768.000000</td>\n",
              "      <td>768.000000</td>\n",
              "      <td>768.000000</td>\n",
              "      <td>768.000000</td>\n",
              "      <td>768.000000</td>\n",
              "      <td>768.000000</td>\n",
              "    </tr>\n",
              "    <tr>\n",
              "      <th>mean</th>\n",
              "      <td>3.845052</td>\n",
              "      <td>120.894531</td>\n",
              "      <td>69.105469</td>\n",
              "      <td>20.536458</td>\n",
              "      <td>79.799479</td>\n",
              "      <td>31.992578</td>\n",
              "      <td>0.471876</td>\n",
              "      <td>33.240885</td>\n",
              "      <td>0.348958</td>\n",
              "    </tr>\n",
              "    <tr>\n",
              "      <th>std</th>\n",
              "      <td>3.369578</td>\n",
              "      <td>31.972618</td>\n",
              "      <td>19.355807</td>\n",
              "      <td>15.952218</td>\n",
              "      <td>115.244002</td>\n",
              "      <td>7.884160</td>\n",
              "      <td>0.331329</td>\n",
              "      <td>11.760232</td>\n",
              "      <td>0.476951</td>\n",
              "    </tr>\n",
              "    <tr>\n",
              "      <th>min</th>\n",
              "      <td>0.000000</td>\n",
              "      <td>0.000000</td>\n",
              "      <td>0.000000</td>\n",
              "      <td>0.000000</td>\n",
              "      <td>0.000000</td>\n",
              "      <td>0.000000</td>\n",
              "      <td>0.078000</td>\n",
              "      <td>21.000000</td>\n",
              "      <td>0.000000</td>\n",
              "    </tr>\n",
              "    <tr>\n",
              "      <th>25%</th>\n",
              "      <td>1.000000</td>\n",
              "      <td>99.000000</td>\n",
              "      <td>62.000000</td>\n",
              "      <td>0.000000</td>\n",
              "      <td>0.000000</td>\n",
              "      <td>27.300000</td>\n",
              "      <td>0.243750</td>\n",
              "      <td>24.000000</td>\n",
              "      <td>0.000000</td>\n",
              "    </tr>\n",
              "    <tr>\n",
              "      <th>50%</th>\n",
              "      <td>3.000000</td>\n",
              "      <td>117.000000</td>\n",
              "      <td>72.000000</td>\n",
              "      <td>23.000000</td>\n",
              "      <td>30.500000</td>\n",
              "      <td>32.000000</td>\n",
              "      <td>0.372500</td>\n",
              "      <td>29.000000</td>\n",
              "      <td>0.000000</td>\n",
              "    </tr>\n",
              "    <tr>\n",
              "      <th>75%</th>\n",
              "      <td>6.000000</td>\n",
              "      <td>140.250000</td>\n",
              "      <td>80.000000</td>\n",
              "      <td>32.000000</td>\n",
              "      <td>127.250000</td>\n",
              "      <td>36.600000</td>\n",
              "      <td>0.626250</td>\n",
              "      <td>41.000000</td>\n",
              "      <td>1.000000</td>\n",
              "    </tr>\n",
              "    <tr>\n",
              "      <th>max</th>\n",
              "      <td>17.000000</td>\n",
              "      <td>199.000000</td>\n",
              "      <td>122.000000</td>\n",
              "      <td>99.000000</td>\n",
              "      <td>846.000000</td>\n",
              "      <td>67.100000</td>\n",
              "      <td>2.420000</td>\n",
              "      <td>81.000000</td>\n",
              "      <td>1.000000</td>\n",
              "    </tr>\n",
              "  </tbody>\n",
              "</table>\n",
              "</div>"
            ],
            "text/plain": [
              "       Pregnancies     Glucose  ...         Age     Outcome\n",
              "count   768.000000  768.000000  ...  768.000000  768.000000\n",
              "mean      3.845052  120.894531  ...   33.240885    0.348958\n",
              "std       3.369578   31.972618  ...   11.760232    0.476951\n",
              "min       0.000000    0.000000  ...   21.000000    0.000000\n",
              "25%       1.000000   99.000000  ...   24.000000    0.000000\n",
              "50%       3.000000  117.000000  ...   29.000000    0.000000\n",
              "75%       6.000000  140.250000  ...   41.000000    1.000000\n",
              "max      17.000000  199.000000  ...   81.000000    1.000000\n",
              "\n",
              "[8 rows x 9 columns]"
            ]
          },
          "metadata": {
            "tags": []
          },
          "execution_count": 199
        }
      ]
    },
    {
      "cell_type": "code",
      "metadata": {
        "colab": {
          "base_uri": "https://localhost:8080/"
        },
        "id": "HTZCdYocccer",
        "outputId": "7cf0c3e2-b62a-4024-a304-3cd071114d8c"
      },
      "source": [
        "df.info()"
      ],
      "execution_count": 200,
      "outputs": [
        {
          "output_type": "stream",
          "text": [
            "<class 'pandas.core.frame.DataFrame'>\n",
            "RangeIndex: 768 entries, 0 to 767\n",
            "Data columns (total 9 columns):\n",
            " #   Column                    Non-Null Count  Dtype  \n",
            "---  ------                    --------------  -----  \n",
            " 0   Pregnancies               768 non-null    int64  \n",
            " 1   Glucose                   768 non-null    int64  \n",
            " 2   BloodPressure             768 non-null    int64  \n",
            " 3   SkinThickness             768 non-null    int64  \n",
            " 4   Insulin                   768 non-null    int64  \n",
            " 5   BMI                       768 non-null    float64\n",
            " 6   DiabetesPedigreeFunction  768 non-null    float64\n",
            " 7   Age                       768 non-null    int64  \n",
            " 8   Outcome                   768 non-null    int64  \n",
            "dtypes: float64(2), int64(7)\n",
            "memory usage: 54.1 KB\n"
          ],
          "name": "stdout"
        }
      ]
    },
    {
      "cell_type": "code",
      "metadata": {
        "colab": {
          "base_uri": "https://localhost:8080/"
        },
        "id": "z0OFc_P0cgEi",
        "outputId": "9dc5426e-4275-401c-cd46-fd5abc4d1ecb"
      },
      "source": [
        "df.isnull().sum()"
      ],
      "execution_count": 201,
      "outputs": [
        {
          "output_type": "execute_result",
          "data": {
            "text/plain": [
              "Pregnancies                 0\n",
              "Glucose                     0\n",
              "BloodPressure               0\n",
              "SkinThickness               0\n",
              "Insulin                     0\n",
              "BMI                         0\n",
              "DiabetesPedigreeFunction    0\n",
              "Age                         0\n",
              "Outcome                     0\n",
              "dtype: int64"
            ]
          },
          "metadata": {
            "tags": []
          },
          "execution_count": 201
        }
      ]
    },
    {
      "cell_type": "code",
      "metadata": {
        "colab": {
          "base_uri": "https://localhost:8080/"
        },
        "id": "pcJWlkbbcjit",
        "outputId": "2d111a09-b90e-457c-afcb-a0a5b96e22ec"
      },
      "source": [
        "df.shape"
      ],
      "execution_count": 202,
      "outputs": [
        {
          "output_type": "execute_result",
          "data": {
            "text/plain": [
              "(768, 9)"
            ]
          },
          "metadata": {
            "tags": []
          },
          "execution_count": 202
        }
      ]
    },
    {
      "cell_type": "code",
      "metadata": {
        "colab": {
          "base_uri": "https://localhost:8080/"
        },
        "id": "QKSGk6zLc2hv",
        "outputId": "8e9ac022-c18a-4faf-c1d7-748996426fc0"
      },
      "source": [
        "df.value_counts()"
      ],
      "execution_count": 203,
      "outputs": [
        {
          "output_type": "execute_result",
          "data": {
            "text/plain": [
              "Pregnancies  Glucose  BloodPressure  SkinThickness  Insulin  BMI   DiabetesPedigreeFunction  Age  Outcome\n",
              "17           163      72             41             114      40.9  0.817                     47   1          1\n",
              "15           136      70             32             110      37.1  0.153                     43   1          1\n",
              "2            87       58             16             52       32.7  0.166                     25   0          1\n",
              "                      0              23             0        28.9  0.773                     25   0          1\n",
              "             85       65             0              0        39.6  0.930                     27   0          1\n",
              "                                                                                                            ..\n",
              "5            106      82             30             0        39.5  0.286                     38   0          1\n",
              "             105      72             29             325      36.9  0.159                     28   0          1\n",
              "             104      74             0              0        28.8  0.153                     48   0          1\n",
              "             103      108            37             0        39.2  0.305                     65   0          1\n",
              "0            57       60             0              0        21.7  0.735                     67   0          1\n",
              "Length: 768, dtype: int64"
            ]
          },
          "metadata": {
            "tags": []
          },
          "execution_count": 203
        }
      ]
    },
    {
      "cell_type": "code",
      "metadata": {
        "colab": {
          "base_uri": "https://localhost:8080/"
        },
        "id": "3len34L7dMcK",
        "outputId": "c8237563-9530-4472-8b9c-8d807320bcaf"
      },
      "source": [
        "df.dtypes"
      ],
      "execution_count": 204,
      "outputs": [
        {
          "output_type": "execute_result",
          "data": {
            "text/plain": [
              "Pregnancies                   int64\n",
              "Glucose                       int64\n",
              "BloodPressure                 int64\n",
              "SkinThickness                 int64\n",
              "Insulin                       int64\n",
              "BMI                         float64\n",
              "DiabetesPedigreeFunction    float64\n",
              "Age                           int64\n",
              "Outcome                       int64\n",
              "dtype: object"
            ]
          },
          "metadata": {
            "tags": []
          },
          "execution_count": 204
        }
      ]
    },
    {
      "cell_type": "code",
      "metadata": {
        "colab": {
          "base_uri": "https://localhost:8080/"
        },
        "id": "8v9VhNOdeCR1",
        "outputId": "3e84999d-cfd8-4556-b541-80b0efd14d12"
      },
      "source": [
        "df.isnull().any()"
      ],
      "execution_count": 205,
      "outputs": [
        {
          "output_type": "execute_result",
          "data": {
            "text/plain": [
              "Pregnancies                 False\n",
              "Glucose                     False\n",
              "BloodPressure               False\n",
              "SkinThickness               False\n",
              "Insulin                     False\n",
              "BMI                         False\n",
              "DiabetesPedigreeFunction    False\n",
              "Age                         False\n",
              "Outcome                     False\n",
              "dtype: bool"
            ]
          },
          "metadata": {
            "tags": []
          },
          "execution_count": 205
        }
      ]
    },
    {
      "cell_type": "code",
      "metadata": {
        "id": "_Lh-Ca6reNBL"
      },
      "source": [
        "corr_data=df.corr()"
      ],
      "execution_count": 206,
      "outputs": []
    },
    {
      "cell_type": "code",
      "metadata": {
        "colab": {
          "base_uri": "https://localhost:8080/",
          "height": 36
        },
        "id": "_1t-bTyPEAdU",
        "outputId": "5eced356-edd7-4d79-b51b-e56592f71a76"
      },
      "source": [
        "'''plt.figure(figsize=(15,8))\n",
        "sns.heatmap(corr_data, annot=True)\n",
        "plt.show()'''"
      ],
      "execution_count": 207,
      "outputs": [
        {
          "output_type": "execute_result",
          "data": {
            "application/vnd.google.colaboratory.intrinsic+json": {
              "type": "string"
            },
            "text/plain": [
              "'plt.figure(figsize=(15,8))\\nsns.heatmap(corr_data, annot=True)\\nplt.show()'"
            ]
          },
          "metadata": {
            "tags": []
          },
          "execution_count": 207
        }
      ]
    },
    {
      "cell_type": "code",
      "metadata": {
        "colab": {
          "base_uri": "https://localhost:8080/",
          "height": 499
        },
        "id": "xSdWAF_CEJNI",
        "outputId": "47a2994f-bbe1-4b5e-8b7d-4da2b06c1642"
      },
      "source": [
        "df.hist(figsize=(15,8))\n",
        "plt.show()"
      ],
      "execution_count": 208,
      "outputs": [
        {
          "output_type": "display_data",
          "data": {
            "image/png": "[encoded data removed]",
            "text/plain": [
              "<Figure size 1080x576 with 9 Axes>"
            ]
          },
          "metadata": {
            "tags": [],
            "needs_background": "light"
          }
        }
      ]
    },
    {
      "cell_type": "code",
      "metadata": {
        "colab": {
          "base_uri": "https://localhost:8080/",
          "height": 497
        },
        "id": "OiijLATuEhv2",
        "outputId": "9628b9fd-927c-4855-f692-7af72fa13702"
      },
      "source": [
        "plt.figure(figsize=(15, 8))\n",
        "sns.barplot(x='BloodPressure', y='Age', data=df)\n",
        "plt.show()\n"
      ],
      "execution_count": 209,
      "outputs": [
        {
          "output_type": "display_data",
          "data": {
            "image/png": "[encoded data removed]",
            "text/plain": [
              "<Figure size 1080x576 with 1 Axes>"
            ]
          },
          "metadata": {
            "tags": [],
            "needs_background": "light"
          }
        }
      ]
    },
    {
      "cell_type": "code",
      "metadata": {
        "colab": {
          "base_uri": "https://localhost:8080/",
          "height": 53
        },
        "id": "SB1HYH5zEvwS",
        "outputId": "697c65ac-882b-48a7-b6f1-080ca61095d8"
      },
      "source": [
        "'''plt.figure(figsize=(20,7))\n",
        "sns.set_style(style='whitegrid')\n",
        "plt.subplot(2,3,1)\n",
        "sns.boxplot(x='Glucose', data=df)\n",
        "plt.subplot(2,3,2)\n",
        "sns.boxplot(x='BloodPressure', data=df)\n",
        "plt.subplot(2,3,3)\n",
        "sns.boxplot(x='Insulin', data=df)\n",
        "plt.subplot(2,3,4)\n",
        "sns.boxplot(x='BMI', data=df)\n",
        "plt.subplot(2,3,5)\n",
        "sns.boxplot(x='Age', data=df)\n",
        "plt.subplot(2,3,6)\n",
        "sns.boxplot(x='SkinThickness', data=df)\n",
        "plt.show()'''"
      ],
      "execution_count": 210,
      "outputs": [
        {
          "output_type": "execute_result",
          "data": {
            "application/vnd.google.colaboratory.intrinsic+json": {
              "type": "string"
            },
            "text/plain": [
              "\"plt.figure(figsize=(20,7))\\nsns.set_style(style='whitegrid')\\nplt.subplot(2,3,1)\\nsns.boxplot(x='Glucose', data=df)\\nplt.subplot(2,3,2)\\nsns.boxplot(x='BloodPressure', data=df)\\nplt.subplot(2,3,3)\\nsns.boxplot(x='Insulin', data=df)\\nplt.subplot(2,3,4)\\nsns.boxplot(x='BMI', data=df)\\nplt.subplot(2,3,5)\\nsns.boxplot(x='Age', data=df)\\nplt.subplot(2,3,6)\\nsns.boxplot(x='SkinThickness', data=df)\\nplt.show()\""
            ]
          },
          "metadata": {
            "tags": []
          },
          "execution_count": 210
        }
      ]
    },
    {
      "cell_type": "code",
      "metadata": {
        "colab": {
          "base_uri": "https://localhost:8080/",
          "height": 36
        },
        "id": "fJniZ8-7HEBw",
        "outputId": "9e8fb8e3-1422-4582-aa54-8738694c99d3"
      },
      "source": [
        "'''plt.figure(figsize=(16,7))\n",
        "data1=['Glucose','BloodPressure','Insulin','BMI','Age','SkinThickness']\n",
        "sns.pairplot(df[data1], palette='Accent')\n",
        "plt.show()'''"
      ],
      "execution_count": 211,
      "outputs": [
        {
          "output_type": "execute_result",
          "data": {
            "application/vnd.google.colaboratory.intrinsic+json": {
              "type": "string"
            },
            "text/plain": [
              "\"plt.figure(figsize=(16,7))\\ndata1=['Glucose','BloodPressure','Insulin','BMI','Age','SkinThickness']\\nsns.pairplot(df[data1], palette='Accent')\\nplt.show()\""
            ]
          },
          "metadata": {
            "tags": []
          },
          "execution_count": 211
        }
      ]
    },
    {
      "cell_type": "code",
      "metadata": {
        "id": "NaBhUp3tIzV6",
        "colab": {
          "base_uri": "https://localhost:8080/",
          "height": 36
        },
        "outputId": "18555314-faf1-4a5b-b70e-a3fb17a2db23"
      },
      "source": [
        "'''sns.boxplot(x='Outcome',y='Insulin',data=df)'''"
      ],
      "execution_count": 212,
      "outputs": [
        {
          "output_type": "execute_result",
          "data": {
            "application/vnd.google.colaboratory.intrinsic+json": {
              "type": "string"
            },
            "text/plain": [
              "\"sns.boxplot(x='Outcome',y='Insulin',data=df)\""
            ]
          },
          "metadata": {
            "tags": []
          },
          "execution_count": 212
        }
      ]
    },
    {
      "cell_type": "code",
      "metadata": {
        "id": "GmNnYIuNzzP2"
      },
      "source": [
        "#sns.regplot(x='BMI', y= 'Glucose', data=df)"
      ],
      "execution_count": 213,
      "outputs": []
    },
    {
      "cell_type": "code",
      "metadata": {
        "id": "0yaeZ6Gwz1CZ"
      },
      "source": [
        "#sns.relplot(x='BMI', y= 'Glucose', data=df)"
      ],
      "execution_count": 214,
      "outputs": []
    },
    {
      "cell_type": "code",
      "metadata": {
        "colab": {
          "base_uri": "https://localhost:8080/",
          "height": 297
        },
        "id": "Qs-K382L0Q1f",
        "outputId": "50653ba1-bc1c-4898-ce03-01ab339159f1"
      },
      "source": [
        "sns.scatterplot(x='Glucose', y= 'Insulin', data=df)"
      ],
      "execution_count": 215,
      "outputs": [
        {
          "output_type": "execute_result",
          "data": {
            "text/plain": [
              "<matplotlib.axes._subplots.AxesSubplot at 0x7ffab3eb76d0>"
            ]
          },
          "metadata": {
            "tags": []
          },
          "execution_count": 215
        },
        {
          "output_type": "display_data",
          "data": {
            "image/png": "[encoded data removed]",
            "text/plain": [
              "<Figure size 432x288 with 1 Axes>"
            ]
          },
          "metadata": {
            "tags": [],
            "needs_background": "light"
          }
        }
      ]
    },
    {
      "cell_type": "code",
      "metadata": {
        "id": "MocnHv1N0liw"
      },
      "source": [
        "#sns.pairplot(df,hue='Outcome')"
      ],
      "execution_count": 216,
      "outputs": []
    },
    {
      "cell_type": "code",
      "metadata": {
        "colab": {
          "base_uri": "https://localhost:8080/",
          "height": 297
        },
        "id": "rjPnEWxD0pZ7",
        "outputId": "6a5d5678-28b0-4147-8f00-f78e825ae17b"
      },
      "source": [
        "sns.lineplot(x='Glucose', y= 'Insulin', data=df)"
      ],
      "execution_count": 217,
      "outputs": [
        {
          "output_type": "execute_result",
          "data": {
            "text/plain": [
              "<matplotlib.axes._subplots.AxesSubplot at 0x7ffab4cb9390>"
            ]
          },
          "metadata": {
            "tags": []
          },
          "execution_count": 217
        },
        {
          "output_type": "display_data",
          "data": {
            "image/png": "[encoded data removed]",
            "text/plain": [
              "<Figure size 432x288 with 1 Axes>"
            ]
          },
          "metadata": {
            "tags": [],
            "needs_background": "light"
          }
        }
      ]
    },
    {
      "cell_type": "code",
      "metadata": {
        "colab": {
          "base_uri": "https://localhost:8080/",
          "height": 1000
        },
        "id": "gW9G0Ld81iY-",
        "outputId": "6e934a9b-6982-4740-b264-f9cb41b465c7"
      },
      "source": [
        "sns.swarmplot(x='Glucose', y= 'Insulin', data=df)"
      ],
      "execution_count": 218,
      "outputs": [
        {
          "output_type": "stream",
          "text": [
            "/usr/local/lib/python3.7/dist-packages/seaborn/categorical.py:1296: UserWarning: 60.0% of the points cannot be placed; you may want to decrease the size of the markers or use stripplot.\n",
            "  warnings.warn(msg, UserWarning)\n",
            "/usr/local/lib/python3.7/dist-packages/seaborn/categorical.py:1296: UserWarning: 50.0% of the points cannot be placed; you may want to decrease the size of the markers or use stripplot.\n",
            "  warnings.warn(msg, UserWarning)\n",
            "/usr/local/lib/python3.7/dist-packages/seaborn/categorical.py:1296: UserWarning: 33.3% of the points cannot be placed; you may want to decrease the size of the markers or use stripplot.\n",
            "  warnings.warn(msg, UserWarning)\n",
            "/usr/local/lib/python3.7/dist-packages/seaborn/categorical.py:1296: UserWarning: 25.0% of the points cannot be placed; you may want to decrease the size of the markers or use stripplot.\n",
            "  warnings.warn(msg, UserWarning)\n",
            "/usr/local/lib/python3.7/dist-packages/seaborn/categorical.py:1296: UserWarning: 66.7% of the points cannot be placed; you may want to decrease the size of the markers or use stripplot.\n",
            "  warnings.warn(msg, UserWarning)\n",
            "/usr/local/lib/python3.7/dist-packages/seaborn/categorical.py:1296: UserWarning: 70.0% of the points cannot be placed; you may want to decrease the size of the markers or use stripplot.\n",
            "  warnings.warn(msg, UserWarning)\n",
            "/usr/local/lib/python3.7/dist-packages/seaborn/categorical.py:1296: UserWarning: 71.4% of the points cannot be placed; you may want to decrease the size of the markers or use stripplot.\n",
            "  warnings.warn(msg, UserWarning)\n",
            "/usr/local/lib/python3.7/dist-packages/seaborn/categorical.py:1296: UserWarning: 57.1% of the points cannot be placed; you may want to decrease the size of the markers or use stripplot.\n",
            "  warnings.warn(msg, UserWarning)\n",
            "/usr/local/lib/python3.7/dist-packages/seaborn/categorical.py:1296: UserWarning: 55.6% of the points cannot be placed; you may want to decrease the size of the markers or use stripplot.\n",
            "  warnings.warn(msg, UserWarning)\n",
            "/usr/local/lib/python3.7/dist-packages/seaborn/categorical.py:1296: UserWarning: 81.8% of the points cannot be placed; you may want to decrease the size of the markers or use stripplot.\n",
            "  warnings.warn(msg, UserWarning)\n",
            "/usr/local/lib/python3.7/dist-packages/seaborn/categorical.py:1296: UserWarning: 42.9% of the points cannot be placed; you may want to decrease the size of the markers or use stripplot.\n",
            "  warnings.warn(msg, UserWarning)\n",
            "/usr/local/lib/python3.7/dist-packages/seaborn/categorical.py:1296: UserWarning: 61.5% of the points cannot be placed; you may want to decrease the size of the markers or use stripplot.\n",
            "  warnings.warn(msg, UserWarning)\n",
            "/usr/local/lib/python3.7/dist-packages/seaborn/categorical.py:1296: UserWarning: 76.5% of the points cannot be placed; you may want to decrease the size of the markers or use stripplot.\n",
            "  warnings.warn(msg, UserWarning)\n",
            "/usr/local/lib/python3.7/dist-packages/seaborn/categorical.py:1296: UserWarning: 70.6% of the points cannot be placed; you may want to decrease the size of the markers or use stripplot.\n",
            "  warnings.warn(msg, UserWarning)\n",
            "/usr/local/lib/python3.7/dist-packages/seaborn/categorical.py:1296: UserWarning: 44.4% of the points cannot be placed; you may want to decrease the size of the markers or use stripplot.\n",
            "  warnings.warn(msg, UserWarning)\n",
            "/usr/local/lib/python3.7/dist-packages/seaborn/categorical.py:1296: UserWarning: 76.9% of the points cannot be placed; you may want to decrease the size of the markers or use stripplot.\n",
            "  warnings.warn(msg, UserWarning)\n",
            "/usr/local/lib/python3.7/dist-packages/seaborn/categorical.py:1296: UserWarning: 53.8% of the points cannot be placed; you may want to decrease the size of the markers or use stripplot.\n",
            "  warnings.warn(msg, UserWarning)\n",
            "/usr/local/lib/python3.7/dist-packages/seaborn/categorical.py:1296: UserWarning: 78.6% of the points cannot be placed; you may want to decrease the size of the markers or use stripplot.\n",
            "  warnings.warn(msg, UserWarning)\n",
            "/usr/local/lib/python3.7/dist-packages/seaborn/categorical.py:1296: UserWarning: 63.6% of the points cannot be placed; you may want to decrease the size of the markers or use stripplot.\n",
            "  warnings.warn(msg, UserWarning)\n",
            "/usr/local/lib/python3.7/dist-packages/seaborn/categorical.py:1296: UserWarning: 64.3% of the points cannot be placed; you may want to decrease the size of the markers or use stripplot.\n",
            "  warnings.warn(msg, UserWarning)\n",
            "/usr/local/lib/python3.7/dist-packages/seaborn/categorical.py:1296: UserWarning: 69.2% of the points cannot be placed; you may want to decrease the size of the markers or use stripplot.\n",
            "  warnings.warn(msg, UserWarning)\n",
            "/usr/local/lib/python3.7/dist-packages/seaborn/categorical.py:1296: UserWarning: 54.5% of the points cannot be placed; you may want to decrease the size of the markers or use stripplot.\n",
            "  warnings.warn(msg, UserWarning)\n",
            "/usr/local/lib/python3.7/dist-packages/seaborn/categorical.py:1296: UserWarning: 45.5% of the points cannot be placed; you may want to decrease the size of the markers or use stripplot.\n",
            "  warnings.warn(msg, UserWarning)\n",
            "/usr/local/lib/python3.7/dist-packages/seaborn/categorical.py:1296: UserWarning: 40.0% of the points cannot be placed; you may want to decrease the size of the markers or use stripplot.\n",
            "  warnings.warn(msg, UserWarning)\n",
            "/usr/local/lib/python3.7/dist-packages/seaborn/categorical.py:1296: UserWarning: 80.0% of the points cannot be placed; you may want to decrease the size of the markers or use stripplot.\n",
            "  warnings.warn(msg, UserWarning)\n",
            "/usr/local/lib/python3.7/dist-packages/seaborn/categorical.py:1296: UserWarning: 16.7% of the points cannot be placed; you may want to decrease the size of the markers or use stripplot.\n",
            "  warnings.warn(msg, UserWarning)\n",
            "/usr/local/lib/python3.7/dist-packages/seaborn/categorical.py:1296: UserWarning: 75.0% of the points cannot be placed; you may want to decrease the size of the markers or use stripplot.\n",
            "  warnings.warn(msg, UserWarning)\n",
            "/usr/local/lib/python3.7/dist-packages/seaborn/categorical.py:1296: UserWarning: 37.5% of the points cannot be placed; you may want to decrease the size of the markers or use stripplot.\n",
            "  warnings.warn(msg, UserWarning)\n",
            "/usr/local/lib/python3.7/dist-packages/seaborn/categorical.py:1296: UserWarning: 20.0% of the points cannot be placed; you may want to decrease the size of the markers or use stripplot.\n",
            "  warnings.warn(msg, UserWarning)\n",
            "/usr/local/lib/python3.7/dist-packages/seaborn/categorical.py:1296: UserWarning: 28.6% of the points cannot be placed; you may want to decrease the size of the markers or use stripplot.\n",
            "  warnings.warn(msg, UserWarning)\n"
          ],
          "name": "stderr"
        },
        {
          "output_type": "execute_result",
          "data": {
            "text/plain": [
              "<matplotlib.axes._subplots.AxesSubplot at 0x7ffab3763d90>"
            ]
          },
          "metadata": {
            "tags": []
          },
          "execution_count": 218
        },
        {
          "output_type": "display_data",
          "data": {
            "image/png": "[encoded data removed]",
            "text/plain": [
              "<Figure size 432x288 with 1 Axes>"
            ]
          },
          "metadata": {
            "tags": [],
            "needs_background": "light"
          }
        }
      ]
    },
    {
      "cell_type": "code",
      "metadata": {
        "colab": {
          "base_uri": "https://localhost:8080/",
          "height": 297
        },
        "id": "1pFoWtbb1n7a",
        "outputId": "3ec104a8-1182-4d10-b3d3-e7998a092cc7"
      },
      "source": [
        "sns.barplot(x=\"SkinThickness\", y=\"Insulin\", data=df[170:180])\n",
        "plt.title(\"SkinThickness vs Insulin\",fontsize=15)\n",
        "plt.xlabel(\"SkinThickness\")\n",
        "plt.ylabel(\"Insulin\")\n",
        "plt.show()\n",
        "plt.style.use(\"ggplot\")"
      ],
      "execution_count": 219,
      "outputs": [
        {
          "output_type": "display_data",
          "data": {
            "image/png": "[encoded data removed]",
            "text/plain": [
              "<Figure size 432x288 with 1 Axes>"
            ]
          },
          "metadata": {
            "tags": [],
            "needs_background": "light"
          }
        }
      ]
    },
    {
      "cell_type": "code",
      "metadata": {
        "colab": {
          "base_uri": "https://localhost:8080/",
          "height": 489
        },
        "id": "DAzOA-H11s2o",
        "outputId": "b0951d93-4a5b-4198-d91c-8e276e280734"
      },
      "source": [
        "plt.style.use(\"default\")\n",
        "plt.figure(figsize=(5,5))\n",
        "sns.barplot(x=\"Glucose\", y=\"Insulin\", data=df[170:180])\n",
        "plt.title(\"Glucose vs Insulin\",fontsize=15)\n",
        "plt.xlabel(\"Glucose\")\n",
        "plt.ylabel(\"Insulin\")\n",
        "plt.show()"
      ],
      "execution_count": 220,
      "outputs": [
        {
          "output_type": "display_data",
          "data": {
            "image/png": "[encoded data removed]",
            "text/plain": [
              "<Figure size 500x500 with 1 Axes>"
            ]
          },
          "metadata": {
            "tags": []
          }
        }
      ]
    },
    {
      "cell_type": "markdown",
      "metadata": {
        "id": "l795kA672DEE"
      },
      "source": [
        "#Training and Testing the Data"
      ]
    },
    {
      "cell_type": "code",
      "metadata": {
        "colab": {
          "base_uri": "https://localhost:8080/"
        },
        "id": "jNnMaODy2Xdh",
        "outputId": "72ef03be-70c6-4097-81c9-e807a7d2473b"
      },
      "source": [
        "#train_test_splitting of the dataset\n",
        "\n",
        "x = df.drop(columns = 'Outcome')\n",
        "\n",
        "# Getting Predicting Value\n",
        "y = df['Outcome']\n",
        "\n",
        "from sklearn.model_selection import train_test_split \n",
        "x_train,x_test,y_train,y_test = train_test_split(x,y,test_size=0.2,random_state=0)\n",
        "print(len(x_train))\n",
        "print(len(x_test))\n",
        "print(len(y_train))\n",
        "print(len(y_test))"
      ],
      "execution_count": 221,
      "outputs": [
        {
          "output_type": "stream",
          "text": [
            "614\n",
            "154\n",
            "614\n",
            "154\n"
          ],
          "name": "stdout"
        }
      ]
    },
    {
      "cell_type": "markdown",
      "metadata": {
        "id": "0wbor56T2qca"
      },
      "source": [
        "#Models"
      ]
    },
    {
      "cell_type": "markdown",
      "metadata": {
        "id": "pEXVwRl9Fx_0"
      },
      "source": [
        "###Logistic Regression"
      ]
    },
    {
      "cell_type": "code",
      "metadata": {
        "colab": {
          "base_uri": "https://localhost:8080/"
        },
        "id": "puCothCu2m9z",
        "outputId": "5c89f466-7b48-46b6-c869-58c5b3cbaf25"
      },
      "source": [
        "#LOGISTIC Regression\n",
        "from sklearn.linear_model import LogisticRegression\n",
        "reg = LogisticRegression()\n",
        "reg.fit(x_train,y_train)  "
      ],
      "execution_count": 222,
      "outputs": [
        {
          "output_type": "stream",
          "text": [
            "/usr/local/lib/python3.7/dist-packages/sklearn/linear_model/_logistic.py:940: ConvergenceWarning: lbfgs failed to converge (status=1):\n",
            "STOP: TOTAL NO. of ITERATIONS REACHED LIMIT.\n",
            "\n",
            "Increase the number of iterations (max_iter) or scale the data as shown in:\n",
            "    https://scikit-learn.org/stable/modules/preprocessing.html\n",
            "Please also refer to the documentation for alternative solver options:\n",
            "    https://scikit-learn.org/stable/modules/linear_model.html#logistic-regression\n",
            "  extra_warning_msg=_LOGISTIC_SOLVER_CONVERGENCE_MSG)\n"
          ],
          "name": "stderr"
        },
        {
          "output_type": "execute_result",
          "data": {
            "text/plain": [
              "LogisticRegression(C=1.0, class_weight=None, dual=False, fit_intercept=True,\n",
              "                   intercept_scaling=1, l1_ratio=None, max_iter=100,\n",
              "                   multi_class='auto', n_jobs=None, penalty='l2',\n",
              "                   random_state=None, solver='lbfgs', tol=0.0001, verbose=0,\n",
              "                   warm_start=False)"
            ]
          },
          "metadata": {
            "tags": []
          },
          "execution_count": 222
        }
      ]
    },
    {
      "cell_type": "code",
      "metadata": {
        "colab": {
          "base_uri": "https://localhost:8080/"
        },
        "id": "XNiLz7Fu25XR",
        "outputId": "db4b4ed9-01b7-40a8-dea7-58aa46c3f599"
      },
      "source": [
        "y_pred=reg.predict(x_test)\n",
        "from sklearn.metrics import accuracy_score,classification_report,confusion_matrix\n",
        "from sklearn.metrics import r2_score\n",
        "from sklearn.metrics import mean_squared_error\n",
        "print(\"Classification Report is:\\n\",classification_report(y_test,y_pred))\n",
        "print(\"Confusion Matrix:\\n\",confusion_matrix(y_test,y_pred))\n",
        "print(\"Training Score:\\n\",reg.score(x_train,y_train)*100)\n",
        "print(\"Mean Squared Error:\\n\",mean_squared_error(y_test,y_pred))\n",
        "print(\"R2 score is:\\n\",r2_score(y_test,y_pred))"
      ],
      "execution_count": 223,
      "outputs": [
        {
          "output_type": "stream",
          "text": [
            "Classification Report is:\n",
            "               precision    recall  f1-score   support\n",
            "\n",
            "           0       0.84      0.92      0.88       107\n",
            "           1       0.76      0.62      0.68        47\n",
            "\n",
            "    accuracy                           0.82       154\n",
            "   macro avg       0.80      0.77      0.78       154\n",
            "weighted avg       0.82      0.82      0.82       154\n",
            "\n",
            "Confusion Matrix:\n",
            " [[98  9]\n",
            " [18 29]]\n",
            "Training Score:\n",
            " 77.19869706840392\n",
            "Mean Squared Error:\n",
            " 0.17532467532467533\n",
            "R2 score is:\n",
            " 0.1731954662954862\n"
          ],
          "name": "stdout"
        }
      ]
    },
    {
      "cell_type": "code",
      "metadata": {
        "colab": {
          "base_uri": "https://localhost:8080/"
        },
        "id": "h_Dwy86j3PgA",
        "outputId": "d12a6f8f-4a1f-4a3a-887a-400c0bef89ca"
      },
      "source": [
        "print(accuracy_score(y_test,y_pred)*100)"
      ],
      "execution_count": 224,
      "outputs": [
        {
          "output_type": "stream",
          "text": [
            "82.46753246753246\n"
          ],
          "name": "stdout"
        }
      ]
    },
    {
      "cell_type": "markdown",
      "metadata": {
        "id": "TPtrzTiFMxSN"
      },
      "source": [
        "###KNeighbour Classifier"
      ]
    },
    {
      "cell_type": "code",
      "metadata": {
        "colab": {
          "base_uri": "https://localhost:8080/"
        },
        "id": "El63T0UW3RYA",
        "outputId": "fbbfa4a0-16ee-47cf-fbdc-eb461a99a0bc"
      },
      "source": [
        "#Kneighbour Classifier\n",
        "from sklearn.neighbors import KNeighborsClassifier\n",
        "knn=KNeighborsClassifier(n_neighbors=7)\n",
        "knn.fit(x_train,y_train)"
      ],
      "execution_count": 225,
      "outputs": [
        {
          "output_type": "execute_result",
          "data": {
            "text/plain": [
              "KNeighborsClassifier(algorithm='auto', leaf_size=30, metric='minkowski',\n",
              "                     metric_params=None, n_jobs=None, n_neighbors=7, p=2,\n",
              "                     weights='uniform')"
            ]
          },
          "metadata": {
            "tags": []
          },
          "execution_count": 225
        }
      ]
    },
    {
      "cell_type": "code",
      "metadata": {
        "colab": {
          "base_uri": "https://localhost:8080/"
        },
        "id": "bHKMQ6FA3ZcG",
        "outputId": "9962c1b8-e7a3-4161-dbfa-e4c2e8518d72"
      },
      "source": [
        "y_pred=knn.predict(x_test)\n",
        "from sklearn.metrics import accuracy_score,classification_report,confusion_matrix\n",
        "from sklearn.metrics import r2_score\n",
        "from sklearn.metrics import mean_squared_error\n",
        "print(\"Classification Report is:\\n\",classification_report(y_test,y_pred))\n",
        "print(\"Confusion Matrix:\\n\",confusion_matrix(y_test,y_pred))\n",
        "print(\"Training Score:\\n\",knn.score(x_train,y_train)*100)\n",
        "print(\"Mean Squared Error:\\n\",mean_squared_error(y_test,y_pred))\n",
        "print(\"R2 score is:\\n\",r2_score(y_test,y_pred))"
      ],
      "execution_count": 226,
      "outputs": [
        {
          "output_type": "stream",
          "text": [
            "Classification Report is:\n",
            "               precision    recall  f1-score   support\n",
            "\n",
            "           0       0.82      0.84      0.83       107\n",
            "           1       0.61      0.57      0.59        47\n",
            "\n",
            "    accuracy                           0.76       154\n",
            "   macro avg       0.72      0.71      0.71       154\n",
            "weighted avg       0.76      0.76      0.76       154\n",
            "\n",
            "Confusion Matrix:\n",
            " [[90 17]\n",
            " [20 27]]\n",
            "Training Score:\n",
            " 78.17589576547232\n",
            "Mean Squared Error:\n",
            " 0.24025974025974026\n",
            "R2 score is:\n",
            " -0.13302843507655582\n"
          ],
          "name": "stdout"
        }
      ]
    },
    {
      "cell_type": "code",
      "metadata": {
        "colab": {
          "base_uri": "https://localhost:8080/"
        },
        "id": "qFIu28Ai3e8u",
        "outputId": "d79a4d25-466f-4fb4-833a-10c3672c61cc"
      },
      "source": [
        "print(accuracy_score(y_test,y_pred)*100)"
      ],
      "execution_count": 227,
      "outputs": [
        {
          "output_type": "stream",
          "text": [
            "75.97402597402598\n"
          ],
          "name": "stdout"
        }
      ]
    },
    {
      "cell_type": "markdown",
      "metadata": {
        "id": "RS4JFtLgM6is"
      },
      "source": [
        "###Support Vector Classifier"
      ]
    },
    {
      "cell_type": "code",
      "metadata": {
        "colab": {
          "base_uri": "https://localhost:8080/"
        },
        "id": "TvZ-kkli3hHw",
        "outputId": "7f8e69a3-5910-4f7c-efa9-eea3207d133f"
      },
      "source": [
        "#SVC\n",
        "from sklearn.svm import SVC\n",
        "svc = SVC()\n",
        "svc.fit(x_train, y_train)"
      ],
      "execution_count": 228,
      "outputs": [
        {
          "output_type": "execute_result",
          "data": {
            "text/plain": [
              "SVC(C=1.0, break_ties=False, cache_size=200, class_weight=None, coef0=0.0,\n",
              "    decision_function_shape='ovr', degree=3, gamma='scale', kernel='rbf',\n",
              "    max_iter=-1, probability=False, random_state=None, shrinking=True,\n",
              "    tol=0.001, verbose=False)"
            ]
          },
          "metadata": {
            "tags": []
          },
          "execution_count": 228
        }
      ]
    },
    {
      "cell_type": "code",
      "metadata": {
        "colab": {
          "base_uri": "https://localhost:8080/"
        },
        "id": "GrgIu62b3ojR",
        "outputId": "ef5697fa-2262-4b8d-ccbb-224600d809c8"
      },
      "source": [
        "y_pred=svc.predict(x_test)\n",
        "from sklearn.metrics import accuracy_score,classification_report,confusion_matrix\n",
        "from sklearn.metrics import r2_score\n",
        "from sklearn.metrics import mean_squared_error\n",
        "print(\"Classification Report is:\\n\",classification_report(y_test,y_pred))\n",
        "print(\"Confusion Matrix:\\n\",confusion_matrix(y_test,y_pred))\n",
        "print(\"Training Score:\\n\",svc.score(x_train,y_train)*100)\n",
        "print(\"Mean Squared Error:\\n\",mean_squared_error(y_test,y_pred))\n",
        "print(\"R2 score is:\\n\",r2_score(y_test,y_pred))"
      ],
      "execution_count": 229,
      "outputs": [
        {
          "output_type": "stream",
          "text": [
            "Classification Report is:\n",
            "               precision    recall  f1-score   support\n",
            "\n",
            "           0       0.81      0.92      0.86       107\n",
            "           1       0.73      0.51      0.60        47\n",
            "\n",
            "    accuracy                           0.79       154\n",
            "   macro avg       0.77      0.71      0.73       154\n",
            "weighted avg       0.78      0.79      0.78       154\n",
            "\n",
            "Confusion Matrix:\n",
            " [[98  9]\n",
            " [23 24]]\n",
            "Training Score:\n",
            " 75.8957654723127\n",
            "Mean Squared Error:\n",
            " 0.2077922077922078\n",
            "R2 score is:\n",
            " 0.020083515609465197\n"
          ],
          "name": "stdout"
        }
      ]
    },
    {
      "cell_type": "code",
      "metadata": {
        "colab": {
          "base_uri": "https://localhost:8080/"
        },
        "id": "cmIyKQ1M3q81",
        "outputId": "106ac2bb-a81a-4b1f-e8f0-52a28b91ef5d"
      },
      "source": [
        "print(accuracy_score(y_test,y_pred)*100)"
      ],
      "execution_count": 230,
      "outputs": [
        {
          "output_type": "stream",
          "text": [
            "79.22077922077922\n"
          ],
          "name": "stdout"
        }
      ]
    },
    {
      "cell_type": "markdown",
      "metadata": {
        "id": "XQMDB_MVNC2t"
      },
      "source": [
        "###Naive Bayes Classifier"
      ]
    },
    {
      "cell_type": "code",
      "metadata": {
        "colab": {
          "base_uri": "https://localhost:8080/"
        },
        "id": "Snmyuw5N3rnV",
        "outputId": "807e856b-9664-4d39-a647-b1b2123fda33"
      },
      "source": [
        "#Naive Bayes\n",
        "from sklearn.naive_bayes import GaussianNB\n",
        "gnb = GaussianNB()\n",
        "gnb.fit(x_train,y_train)"
      ],
      "execution_count": 231,
      "outputs": [
        {
          "output_type": "execute_result",
          "data": {
            "text/plain": [
              "GaussianNB(priors=None, var_smoothing=1e-09)"
            ]
          },
          "metadata": {
            "tags": []
          },
          "execution_count": 231
        }
      ]
    },
    {
      "cell_type": "code",
      "metadata": {
        "colab": {
          "base_uri": "https://localhost:8080/"
        },
        "id": "UdrXdVGr3wUm",
        "outputId": "ca7c5782-0cbb-4558-b3b4-7fb548051340"
      },
      "source": [
        "y_pred=gnb.predict(x_test)\n",
        "from sklearn.metrics import accuracy_score,classification_report,confusion_matrix\n",
        "from sklearn.metrics import r2_score\n",
        "from sklearn.metrics import mean_squared_error\n",
        "print(\"Classification Report is:\\n\",classification_report(y_test,y_pred))\n",
        "print(\"Confusion Matrix:\\n\",confusion_matrix(y_test,y_pred))\n",
        "print(\"Training Score:\\n\",gnb.score(x_train,y_train)*100)\n",
        "print(\"Mean Squared Error:\\n\",mean_squared_error(y_test,y_pred))\n",
        "print(\"R2 score is:\\n\",r2_score(y_test,y_pred))"
      ],
      "execution_count": 232,
      "outputs": [
        {
          "output_type": "stream",
          "text": [
            "Classification Report is:\n",
            "               precision    recall  f1-score   support\n",
            "\n",
            "           0       0.84      0.87      0.85       107\n",
            "           1       0.67      0.62      0.64        47\n",
            "\n",
            "    accuracy                           0.79       154\n",
            "   macro avg       0.76      0.74      0.75       154\n",
            "weighted avg       0.79      0.79      0.79       154\n",
            "\n",
            "Confusion Matrix:\n",
            " [[93 14]\n",
            " [18 29]]\n",
            "Training Score:\n",
            " 75.7328990228013\n",
            "Mean Squared Error:\n",
            " 0.2077922077922078\n",
            "R2 score is:\n",
            " 0.020083515609465197\n"
          ],
          "name": "stdout"
        }
      ]
    },
    {
      "cell_type": "code",
      "metadata": {
        "colab": {
          "base_uri": "https://localhost:8080/"
        },
        "id": "8zwi8B1q36E4",
        "outputId": "af30cc74-a280-46b8-b0f9-9a2c1abdc133"
      },
      "source": [
        "print(\"Accuracy Score:\\n\",gnb.score(x_train,y_train)*100)"
      ],
      "execution_count": 233,
      "outputs": [
        {
          "output_type": "stream",
          "text": [
            "Accuracy Score:\n",
            " 75.7328990228013\n"
          ],
          "name": "stdout"
        }
      ]
    },
    {
      "cell_type": "markdown",
      "metadata": {
        "id": "eXfXf8aeNF_N"
      },
      "source": [
        "###Decision Tree Classiier"
      ]
    },
    {
      "cell_type": "code",
      "metadata": {
        "colab": {
          "base_uri": "https://localhost:8080/"
        },
        "id": "Y98vvE6O3-VD",
        "outputId": "da6cfe73-edd8-4b62-8eb6-f4de1209bc41"
      },
      "source": [
        "#Decision Tree Classifier\n",
        "from sklearn.tree import DecisionTreeClassifier\n",
        "dtree = DecisionTreeClassifier(max_depth=6, random_state=123,criterion='entropy')\n",
        "dtree.fit(x_train,y_train)"
      ],
      "execution_count": 234,
      "outputs": [
        {
          "output_type": "execute_result",
          "data": {
            "text/plain": [
              "DecisionTreeClassifier(ccp_alpha=0.0, class_weight=None, criterion='entropy',\n",
              "                       max_depth=6, max_features=None, max_leaf_nodes=None,\n",
              "                       min_impurity_decrease=0.0, min_impurity_split=None,\n",
              "                       min_samples_leaf=1, min_samples_split=2,\n",
              "                       min_weight_fraction_leaf=0.0, presort='deprecated',\n",
              "                       random_state=123, splitter='best')"
            ]
          },
          "metadata": {
            "tags": []
          },
          "execution_count": 234
        }
      ]
    },
    {
      "cell_type": "code",
      "metadata": {
        "colab": {
          "base_uri": "https://localhost:8080/"
        },
        "id": "lV63nkvs4LxN",
        "outputId": "61b5da82-e220-4ca7-feaf-7f82e2a4f68a"
      },
      "source": [
        "y_pred=dtree.predict(x_test)\n",
        "from sklearn.metrics import accuracy_score,classification_report,confusion_matrix\n",
        "from sklearn.metrics import r2_score\n",
        "from sklearn.metrics import mean_squared_error\n",
        "print(\"Classification Report is:\\n\",classification_report(y_test,y_pred))\n",
        "print(\"Confusion Matrix:\\n\",confusion_matrix(y_test,y_pred))\n",
        "print(\"Training Score:\\n\",dtree.score(x_train,y_train)*100)\n",
        "print(\"Mean Squared Error:\\n\",mean_squared_error(y_test,y_pred))\n",
        "print(\"R2 score is:\\n\",r2_score(y_test,y_pred))"
      ],
      "execution_count": 235,
      "outputs": [
        {
          "output_type": "stream",
          "text": [
            "Classification Report is:\n",
            "               precision    recall  f1-score   support\n",
            "\n",
            "           0       0.78      0.87      0.82       107\n",
            "           1       0.59      0.43      0.49        47\n",
            "\n",
            "    accuracy                           0.73       154\n",
            "   macro avg       0.68      0.65      0.66       154\n",
            "weighted avg       0.72      0.73      0.72       154\n",
            "\n",
            "Confusion Matrix:\n",
            " [[93 14]\n",
            " [27 20]]\n",
            "Training Score:\n",
            " 82.08469055374593\n",
            "Mean Squared Error:\n",
            " 0.2662337662337662\n",
            "R2 score is:\n",
            " -0.2555179956253728\n"
          ],
          "name": "stdout"
        }
      ]
    },
    {
      "cell_type": "code",
      "metadata": {
        "colab": {
          "base_uri": "https://localhost:8080/"
        },
        "id": "Qp7VxUkW4MKk",
        "outputId": "153e1f2b-3032-42a5-9ee7-ffaa18fee8a7"
      },
      "source": [
        "print(accuracy_score(y_test,y_pred)*100)"
      ],
      "execution_count": 236,
      "outputs": [
        {
          "output_type": "stream",
          "text": [
            "73.37662337662337\n"
          ],
          "name": "stdout"
        }
      ]
    },
    {
      "cell_type": "markdown",
      "metadata": {
        "id": "ryuLtrQuNJxd"
      },
      "source": [
        "###Random Tree Classifier"
      ]
    },
    {
      "cell_type": "code",
      "metadata": {
        "colab": {
          "base_uri": "https://localhost:8080/"
        },
        "id": "VI9Fo3SS4P4C",
        "outputId": "f842bf8e-034d-4981-d23c-3944205a9899"
      },
      "source": [
        "#Random Forest Classifier\n",
        "from sklearn.ensemble import RandomForestClassifier\n",
        "rfc=RandomForestClassifier()\n",
        "rfc.fit(x_train,y_train)"
      ],
      "execution_count": 237,
      "outputs": [
        {
          "output_type": "execute_result",
          "data": {
            "text/plain": [
              "RandomForestClassifier(bootstrap=True, ccp_alpha=0.0, class_weight=None,\n",
              "                       criterion='gini', max_depth=None, max_features='auto',\n",
              "                       max_leaf_nodes=None, max_samples=None,\n",
              "                       min_impurity_decrease=0.0, min_impurity_split=None,\n",
              "                       min_samples_leaf=1, min_samples_split=2,\n",
              "                       min_weight_fraction_leaf=0.0, n_estimators=100,\n",
              "                       n_jobs=None, oob_score=False, random_state=None,\n",
              "                       verbose=0, warm_start=False)"
            ]
          },
          "metadata": {
            "tags": []
          },
          "execution_count": 237
        }
      ]
    },
    {
      "cell_type": "code",
      "metadata": {
        "colab": {
          "base_uri": "https://localhost:8080/"
        },
        "id": "7yMdd67Q4Tik",
        "outputId": "7dd4fd19-8f04-45de-82df-a68a5cbe63ed"
      },
      "source": [
        "y_pred=rfc.predict(x_test)\n",
        "from sklearn.metrics import accuracy_score,classification_report,confusion_matrix\n",
        "from sklearn.metrics import r2_score\n",
        "from sklearn.metrics import mean_squared_error\n",
        "print(\"Classification Report is:\\n\",classification_report(y_test,y_pred))\n",
        "print(\"Confusion Matrix:\\n\",confusion_matrix(y_test,y_pred))\n",
        "print(\"Training Score:\\n\",rfc.score(x_train,y_train)*100)\n",
        "print(\"Mean Squared Error:\\n\",mean_squared_error(y_test,y_pred))\n",
        "print(\"R2 score is:\\n\",r2_score(y_test,y_pred))"
      ],
      "execution_count": 238,
      "outputs": [
        {
          "output_type": "stream",
          "text": [
            "Classification Report is:\n",
            "               precision    recall  f1-score   support\n",
            "\n",
            "           0       0.87      0.87      0.87       107\n",
            "           1       0.70      0.70      0.70        47\n",
            "\n",
            "    accuracy                           0.82       154\n",
            "   macro avg       0.79      0.79      0.79       154\n",
            "weighted avg       0.82      0.82      0.82       154\n",
            "\n",
            "Confusion Matrix:\n",
            " [[93 14]\n",
            " [14 33]]\n",
            "Training Score:\n",
            " 100.0\n",
            "Mean Squared Error:\n",
            " 0.18181818181818182\n",
            "R2 score is:\n",
            " 0.14257307615828196\n"
          ],
          "name": "stdout"
        }
      ]
    },
    {
      "cell_type": "code",
      "metadata": {
        "colab": {
          "base_uri": "https://localhost:8080/"
        },
        "id": "TFd2OtWV4V_l",
        "outputId": "a7810159-e212-493b-846c-af2d0b8e99cb"
      },
      "source": [
        "print(accuracy_score(y_test,y_pred)*100)"
      ],
      "execution_count": 239,
      "outputs": [
        {
          "output_type": "stream",
          "text": [
            "81.81818181818183\n"
          ],
          "name": "stdout"
        }
      ]
    },
    {
      "cell_type": "markdown",
      "metadata": {
        "id": "gPXEJQ21NRkd"
      },
      "source": [
        "###AdaBoost Classifier"
      ]
    },
    {
      "cell_type": "code",
      "metadata": {
        "colab": {
          "base_uri": "https://localhost:8080/"
        },
        "id": "BSZQUMho4bbJ",
        "outputId": "fd1ef216-da5a-4530-d3a5-8ca41b363af2"
      },
      "source": [
        "#AdaBoost Classifier\n",
        "from sklearn.ensemble import AdaBoostClassifier\n",
        "adb = AdaBoostClassifier(base_estimator = None)\n",
        "adb.fit(x_train,y_train)"
      ],
      "execution_count": 240,
      "outputs": [
        {
          "output_type": "execute_result",
          "data": {
            "text/plain": [
              "AdaBoostClassifier(algorithm='SAMME.R', base_estimator=None, learning_rate=1.0,\n",
              "                   n_estimators=50, random_state=None)"
            ]
          },
          "metadata": {
            "tags": []
          },
          "execution_count": 240
        }
      ]
    },
    {
      "cell_type": "code",
      "metadata": {
        "colab": {
          "base_uri": "https://localhost:8080/"
        },
        "id": "xAR6hzIR4grM",
        "outputId": "d27056d2-7985-4da5-dc65-3c0998304095"
      },
      "source": [
        "y_pred=adb.predict(x_test)\n",
        "from sklearn.metrics import accuracy_score,classification_report,confusion_matrix\n",
        "from sklearn.metrics import r2_score\n",
        "from sklearn.metrics import mean_squared_error\n",
        "print(\"Classification Report is:\\n\",classification_report(y_test,y_pred))\n",
        "print(\"Confusion Matrix:\\n\",confusion_matrix(y_test,y_pred))\n",
        "print(\"Training Score:\\n\",adb.score(x_train,y_train)*100)\n",
        "print(\"Mean Squared Error:\\n\",mean_squared_error(y_test,y_pred))\n",
        "print(\"R2 score is:\\n\",r2_score(y_test,y_pred))"
      ],
      "execution_count": 241,
      "outputs": [
        {
          "output_type": "stream",
          "text": [
            "Classification Report is:\n",
            "               precision    recall  f1-score   support\n",
            "\n",
            "           0       0.85      0.83      0.84       107\n",
            "           1       0.63      0.66      0.65        47\n",
            "\n",
            "    accuracy                           0.78       154\n",
            "   macro avg       0.74      0.75      0.74       154\n",
            "weighted avg       0.78      0.78      0.78       154\n",
            "\n",
            "Confusion Matrix:\n",
            " [[89 18]\n",
            " [16 31]]\n",
            "Training Score:\n",
            " 81.75895765472313\n",
            "Mean Squared Error:\n",
            " 0.22077922077922077\n",
            "R2 score is:\n",
            " -0.0411612646649433\n"
          ],
          "name": "stdout"
        }
      ]
    },
    {
      "cell_type": "code",
      "metadata": {
        "colab": {
          "base_uri": "https://localhost:8080/"
        },
        "id": "6phH1POG4hnD",
        "outputId": "0b6210ec-916c-456f-b70a-603e26e9cdbc"
      },
      "source": [
        "print(accuracy_score(y_test,y_pred)*100)"
      ],
      "execution_count": 242,
      "outputs": [
        {
          "output_type": "stream",
          "text": [
            "77.92207792207793\n"
          ],
          "name": "stdout"
        }
      ]
    },
    {
      "cell_type": "markdown",
      "metadata": {
        "id": "s4IxVIoJNUp6"
      },
      "source": [
        "###Gradient Boosting Classifier"
      ]
    },
    {
      "cell_type": "code",
      "metadata": {
        "colab": {
          "base_uri": "https://localhost:8080/"
        },
        "id": "F-X802rX4o21",
        "outputId": "105b4529-ddcb-4ca3-ab94-11142780ee73"
      },
      "source": [
        "#Gradient Boosting Classifier\n",
        "from sklearn.ensemble import GradientBoostingClassifier\n",
        "gbc=GradientBoostingClassifier()\n",
        "gbc.fit(x_train,y_train)"
      ],
      "execution_count": 243,
      "outputs": [
        {
          "output_type": "execute_result",
          "data": {
            "text/plain": [
              "GradientBoostingClassifier(ccp_alpha=0.0, criterion='friedman_mse', init=None,\n",
              "                           learning_rate=0.1, loss='deviance', max_depth=3,\n",
              "                           max_features=None, max_leaf_nodes=None,\n",
              "                           min_impurity_decrease=0.0, min_impurity_split=None,\n",
              "                           min_samples_leaf=1, min_samples_split=2,\n",
              "                           min_weight_fraction_leaf=0.0, n_estimators=100,\n",
              "                           n_iter_no_change=None, presort='deprecated',\n",
              "                           random_state=None, subsample=1.0, tol=0.0001,\n",
              "                           validation_fraction=0.1, verbose=0,\n",
              "                           warm_start=False)"
            ]
          },
          "metadata": {
            "tags": []
          },
          "execution_count": 243
        }
      ]
    },
    {
      "cell_type": "code",
      "metadata": {
        "colab": {
          "base_uri": "https://localhost:8080/"
        },
        "id": "hl-Yj4w64t5_",
        "outputId": "9c81e9b9-9682-4ecd-dd1e-9b5b3ba0fe16"
      },
      "source": [
        "y_pred=gbc.predict(x_test)\n",
        "from sklearn.metrics import accuracy_score,classification_report,confusion_matrix\n",
        "from sklearn.metrics import r2_score\n",
        "from sklearn.metrics import mean_squared_error\n",
        "print(\"Classification Report is:\\n\",classification_report(y_test,y_pred))\n",
        "print(\"Confusion Matrix:\\n\",confusion_matrix(y_test,y_pred))\n",
        "print(\"Training Score:\\n\",gbc.score(x_train,y_train)*100)\n",
        "print(\"Mean Squared Error:\\n\",mean_squared_error(y_test,y_pred))\n",
        "print(\"R2 score is:\\n\",r2_score(y_test,y_pred))"
      ],
      "execution_count": 244,
      "outputs": [
        {
          "output_type": "stream",
          "text": [
            "Classification Report is:\n",
            "               precision    recall  f1-score   support\n",
            "\n",
            "           0       0.86      0.87      0.87       107\n",
            "           1       0.70      0.68      0.69        47\n",
            "\n",
            "    accuracy                           0.81       154\n",
            "   macro avg       0.78      0.78      0.78       154\n",
            "weighted avg       0.81      0.81      0.81       154\n",
            "\n",
            "Confusion Matrix:\n",
            " [[93 14]\n",
            " [15 32]]\n",
            "Training Score:\n",
            " 91.85667752442997\n",
            "Mean Squared Error:\n",
            " 0.18831168831168832\n",
            "R2 score is:\n",
            " 0.11195068602107783\n"
          ],
          "name": "stdout"
        }
      ]
    },
    {
      "cell_type": "code",
      "metadata": {
        "colab": {
          "base_uri": "https://localhost:8080/"
        },
        "id": "DHuQMEle4wAD",
        "outputId": "6d5dada4-35cf-45f3-ce3e-50e5fad872eb"
      },
      "source": [
        "print(accuracy_score(y_test,y_pred)*100)"
      ],
      "execution_count": 245,
      "outputs": [
        {
          "output_type": "stream",
          "text": [
            "81.16883116883116\n"
          ],
          "name": "stdout"
        }
      ]
    },
    {
      "cell_type": "markdown",
      "metadata": {
        "id": "9SZVIc6lNYkY"
      },
      "source": [
        "###XGB Classifier"
      ]
    },
    {
      "cell_type": "code",
      "metadata": {
        "colab": {
          "base_uri": "https://localhost:8080/"
        },
        "id": "ZW8OYSZx4x5e",
        "outputId": "42d813fc-11da-4f8a-ca5f-ddf146cb9436"
      },
      "source": [
        "#XGB Classifier\n",
        "from xgboost import XGBClassifier\n",
        "\n",
        "xgb =XGBClassifier(objective ='reg:linear', colsample_bytree = 0.3, learning_rate = 0.1,\n",
        "                max_depth = 5, alpha = 10, n_estimators = 10)\n",
        "\n",
        "xgb.fit(x_train, y_train)"
      ],
      "execution_count": 246,
      "outputs": [
        {
          "output_type": "stream",
          "text": [
            "[05:40:52] WARNING: /workspace/src/objective/regression_obj.cu:152: reg:linear is now deprecated in favor of reg:squarederror.\n"
          ],
          "name": "stdout"
        },
        {
          "output_type": "execute_result",
          "data": {
            "text/plain": [
              "XGBClassifier(alpha=10, base_score=0.5, booster='gbtree', colsample_bylevel=1,\n",
              "              colsample_bynode=1, colsample_bytree=0.3, gamma=0,\n",
              "              learning_rate=0.1, max_delta_step=0, max_depth=5,\n",
              "              min_child_weight=1, missing=None, n_estimators=10, n_jobs=1,\n",
              "              nthread=None, objective='reg:linear', random_state=0, reg_alpha=0,\n",
              "              reg_lambda=1, scale_pos_weight=1, seed=None, silent=None,\n",
              "              subsample=1, verbosity=1)"
            ]
          },
          "metadata": {
            "tags": []
          },
          "execution_count": 246
        }
      ]
    },
    {
      "cell_type": "code",
      "metadata": {
        "colab": {
          "base_uri": "https://localhost:8080/"
        },
        "id": "7i21mBCJ4x_Z",
        "outputId": "746ed110-f383-4b52-f8ed-f5e3524d83c5"
      },
      "source": [
        "y_pred=xgb.predict(x_test)\n",
        "from sklearn.metrics import accuracy_score,classification_report,confusion_matrix\n",
        "from sklearn.metrics import r2_score\n",
        "from sklearn.metrics import mean_squared_error\n",
        "print(\"Classification Report is:\\n\",classification_report(y_test,y_pred))\n",
        "print(\"Confusion Matrix:\\n\",confusion_matrix(y_test,y_pred))\n",
        "print(\"Training Score:\\n\",xgb.score(x_train,y_train)*100)\n",
        "print(\"Mean Squared Error:\\n\",mean_squared_error(y_test,y_pred))\n",
        "print(\"R2 score is:\\n\",r2_score(y_test,y_pred))"
      ],
      "execution_count": 247,
      "outputs": [
        {
          "output_type": "stream",
          "text": [
            "Classification Report is:\n",
            "               precision    recall  f1-score   support\n",
            "\n",
            "           0       0.84      0.93      0.88       107\n",
            "           1       0.80      0.60      0.68        47\n",
            "\n",
            "    accuracy                           0.83       154\n",
            "   macro avg       0.82      0.77      0.78       154\n",
            "weighted avg       0.83      0.83      0.82       154\n",
            "\n",
            "Confusion Matrix:\n",
            " [[100   7]\n",
            " [ 19  28]]\n",
            "Training Score:\n",
            " 86.31921824104235\n",
            "Mean Squared Error:\n",
            " 0.16883116883116883\n",
            "R2 score is:\n",
            " 0.20381785643269046\n"
          ],
          "name": "stdout"
        }
      ]
    },
    {
      "cell_type": "code",
      "metadata": {
        "colab": {
          "base_uri": "https://localhost:8080/"
        },
        "id": "o1KvykfD47eg",
        "outputId": "3b124b85-c56c-4e63-dcda-48ab29e96998"
      },
      "source": [
        "xbg_accuracy=print(accuracy_score(y_test,y_pred)*100)"
      ],
      "execution_count": 248,
      "outputs": [
        {
          "output_type": "stream",
          "text": [
            "83.11688311688312\n"
          ],
          "name": "stdout"
        }
      ]
    },
    {
      "cell_type": "markdown",
      "metadata": {
        "id": "vMMkVF41NbfR"
      },
      "source": [
        "###Extra Trees Classifier"
      ]
    },
    {
      "cell_type": "code",
      "metadata": {
        "colab": {
          "base_uri": "https://localhost:8080/"
        },
        "id": "N1lNCUGj491S",
        "outputId": "44325a38-4a95-4207-f11b-5e9045a795d2"
      },
      "source": [
        "#Extra Trees Classifier\n",
        "from sklearn.ensemble import ExtraTreesClassifier\n",
        "etc = ExtraTreesClassifier(n_estimators=100, random_state=0)\n",
        "etc.fit(x_train,y_train)"
      ],
      "execution_count": 249,
      "outputs": [
        {
          "output_type": "execute_result",
          "data": {
            "text/plain": [
              "ExtraTreesClassifier(bootstrap=False, ccp_alpha=0.0, class_weight=None,\n",
              "                     criterion='gini', max_depth=None, max_features='auto',\n",
              "                     max_leaf_nodes=None, max_samples=None,\n",
              "                     min_impurity_decrease=0.0, min_impurity_split=None,\n",
              "                     min_samples_leaf=1, min_samples_split=2,\n",
              "                     min_weight_fraction_leaf=0.0, n_estimators=100,\n",
              "                     n_jobs=None, oob_score=False, random_state=0, verbose=0,\n",
              "                     warm_start=False)"
            ]
          },
          "metadata": {
            "tags": []
          },
          "execution_count": 249
        }
      ]
    },
    {
      "cell_type": "code",
      "metadata": {
        "colab": {
          "base_uri": "https://localhost:8080/"
        },
        "id": "ilH0wHrd5BOa",
        "outputId": "e806937d-0249-4d3a-bcbe-444c5b07ca99"
      },
      "source": [
        "y_pred=etc.predict(x_test)\n",
        "from sklearn.metrics import accuracy_score,classification_report,confusion_matrix\n",
        "from sklearn.metrics import r2_score\n",
        "from sklearn.metrics import mean_squared_error\n",
        "print(\"Classification Report is:\\n\",classification_report(y_test,y_pred))\n",
        "print(\"Confusion Matrix:\\n\",confusion_matrix(y_test,y_pred))\n",
        "print(\"Training Score:\\n\",etc.score(x_train,y_train)*100)\n",
        "print(\"Mean Squared Error:\\n\",mean_squared_error(y_test,y_pred))\n",
        "print(\"R2 score is:\\n\",r2_score(y_test,y_pred))"
      ],
      "execution_count": 250,
      "outputs": [
        {
          "output_type": "stream",
          "text": [
            "Classification Report is:\n",
            "               precision    recall  f1-score   support\n",
            "\n",
            "           0       0.85      0.87      0.86       107\n",
            "           1       0.69      0.66      0.67        47\n",
            "\n",
            "    accuracy                           0.81       154\n",
            "   macro avg       0.77      0.76      0.77       154\n",
            "weighted avg       0.80      0.81      0.80       154\n",
            "\n",
            "Confusion Matrix:\n",
            " [[93 14]\n",
            " [16 31]]\n",
            "Training Score:\n",
            " 100.0\n",
            "Mean Squared Error:\n",
            " 0.19480519480519481\n",
            "R2 score is:\n",
            " 0.08132829588387358\n"
          ],
          "name": "stdout"
        }
      ]
    },
    {
      "cell_type": "code",
      "metadata": {
        "colab": {
          "base_uri": "https://localhost:8080/"
        },
        "id": "vjp4xHOF5EDg",
        "outputId": "ff17e2ee-5fda-4622-9868-9955ce102849"
      },
      "source": [
        "print(accuracy_score(y_test,y_pred)*100)"
      ],
      "execution_count": 251,
      "outputs": [
        {
          "output_type": "stream",
          "text": [
            "80.51948051948052\n"
          ],
          "name": "stdout"
        }
      ]
    },
    {
      "cell_type": "code",
      "metadata": {
        "colab": {
          "base_uri": "https://localhost:8080/",
          "height": 418
        },
        "id": "TyUM3jC65Hb5",
        "outputId": "1b8774c0-2b7f-4422-de80-5e89734a22bf"
      },
      "source": [
        "data = pd.DataFrame({'Actual': y_test, 'Predicted': y_pred})\n",
        "data"
      ],
      "execution_count": 252,
      "outputs": [
        {
          "output_type": "execute_result",
          "data": {
            "text/html": [
              "<div>\n",
              "<style scoped>\n",
              "    .dataframe tbody tr th:only-of-type {\n",
              "        vertical-align: middle;\n",
              "    }\n",
              "\n",
              "    .dataframe tbody tr th {\n",
              "        vertical-align: top;\n",
              "    }\n",
              "\n",
              "    .dataframe thead th {\n",
              "        text-align: right;\n",
              "    }\n",
              "</style>\n",
              "<table border=\"1\" class=\"dataframe\">\n",
              "  <thead>\n",
              "    <tr style=\"text-align: right;\">\n",
              "      <th></th>\n",
              "      <th>Actual</th>\n",
              "      <th>Predicted</th>\n",
              "    </tr>\n",
              "  </thead>\n",
              "  <tbody>\n",
              "    <tr>\n",
              "      <th>661</th>\n",
              "      <td>1</td>\n",
              "      <td>1</td>\n",
              "    </tr>\n",
              "    <tr>\n",
              "      <th>122</th>\n",
              "      <td>0</td>\n",
              "      <td>0</td>\n",
              "    </tr>\n",
              "    <tr>\n",
              "      <th>113</th>\n",
              "      <td>0</td>\n",
              "      <td>0</td>\n",
              "    </tr>\n",
              "    <tr>\n",
              "      <th>14</th>\n",
              "      <td>1</td>\n",
              "      <td>0</td>\n",
              "    </tr>\n",
              "    <tr>\n",
              "      <th>529</th>\n",
              "      <td>0</td>\n",
              "      <td>0</td>\n",
              "    </tr>\n",
              "    <tr>\n",
              "      <th>...</th>\n",
              "      <td>...</td>\n",
              "      <td>...</td>\n",
              "    </tr>\n",
              "    <tr>\n",
              "      <th>476</th>\n",
              "      <td>1</td>\n",
              "      <td>0</td>\n",
              "    </tr>\n",
              "    <tr>\n",
              "      <th>482</th>\n",
              "      <td>0</td>\n",
              "      <td>0</td>\n",
              "    </tr>\n",
              "    <tr>\n",
              "      <th>230</th>\n",
              "      <td>1</td>\n",
              "      <td>0</td>\n",
              "    </tr>\n",
              "    <tr>\n",
              "      <th>527</th>\n",
              "      <td>0</td>\n",
              "      <td>0</td>\n",
              "    </tr>\n",
              "    <tr>\n",
              "      <th>380</th>\n",
              "      <td>0</td>\n",
              "      <td>0</td>\n",
              "    </tr>\n",
              "  </tbody>\n",
              "</table>\n",
              "<p>154 rows × 2 columns</p>\n",
              "</div>"
            ],
            "text/plain": [
              "     Actual  Predicted\n",
              "661       1          1\n",
              "122       0          0\n",
              "113       0          0\n",
              "14        1          0\n",
              "529       0          0\n",
              "..      ...        ...\n",
              "476       1          0\n",
              "482       0          0\n",
              "230       1          0\n",
              "527       0          0\n",
              "380       0          0\n",
              "\n",
              "[154 rows x 2 columns]"
            ]
          },
          "metadata": {
            "tags": []
          },
          "execution_count": 252
        }
      ]
    },
    {
      "cell_type": "code",
      "metadata": {
        "colab": {
          "base_uri": "https://localhost:8080/",
          "height": 53
        },
        "id": "0XhFg1X35KpZ",
        "outputId": "4dad9cb7-2b9f-4d52-fe17-467cb6002bba"
      },
      "source": [
        "'''Logistic Regression= 82.46 %\n",
        "KNeighbors Classifier= 75.97 %\n",
        "SVC= 79.22 %\n",
        "Naiye Bayes= 75.73 %\n",
        "Decision Tree Classifier= 73.37%\n",
        "Random Forest Classifier= 81.57%\n",
        "Ada Boost Classifier= 77.92%\n",
        "Gradient Boosting Classifier= 81.81%\n",
        "XGB Classifier= 78.57%\n",
        "Extra Trees Classifier= 80.51%'''"
      ],
      "execution_count": 253,
      "outputs": [
        {
          "output_type": "execute_result",
          "data": {
            "application/vnd.google.colaboratory.intrinsic+json": {
              "type": "string"
            },
            "text/plain": [
              "'Logistic Regression= 82.46 %\\nKNeighbors Classifier= 75.97 %\\nSVC= 79.22 %\\nNaiye Bayes= 75.73 %\\nDecision Tree Classifier= 73.37%\\nRandom Forest Classifier= 81.57%\\nAda Boost Classifier= 77.92%\\nGradient Boosting Classifier= 81.81%\\nXGB Classifier= 78.57%\\nExtra Trees Classifier= 80.51%'"
            ]
          },
          "metadata": {
            "tags": []
          },
          "execution_count": 253
        }
      ]
    },
    {
      "cell_type": "markdown",
      "metadata": {
        "id": "tYrem0qYb_YQ"
      },
      "source": [
        "##ANN"
      ]
    },
    {
      "cell_type": "code",
      "metadata": {
        "id": "RURfS39EGdLP"
      },
      "source": [
        "mms=MinMaxScaler()"
      ],
      "execution_count": 254,
      "outputs": []
    },
    {
      "cell_type": "code",
      "metadata": {
        "id": "xPq2RKN6HHQO"
      },
      "source": [
        "col=['Pregnancies','Glucose',\t'BloodPressure',\t'SkinThickness',\t'Insulin'\t,'BMI'\t,'DiabetesPedigreeFunction','Age']\n",
        "\n",
        "for i in col:\n",
        "  x[col]=mms.fit_transform(x[col])\n"
      ],
      "execution_count": 269,
      "outputs": []
    },
    {
      "cell_type": "code",
      "metadata": {
        "colab": {
          "base_uri": "https://localhost:8080/",
          "height": 204
        },
        "id": "xCC1loUaHQRM",
        "outputId": "87ef4e66-539c-496a-d8f7-39a390b8206f"
      },
      "source": [
        "x.head()"
      ],
      "execution_count": 270,
      "outputs": [
        {
          "output_type": "execute_result",
          "data": {
            "text/html": [
              "<div>\n",
              "<style scoped>\n",
              "    .dataframe tbody tr th:only-of-type {\n",
              "        vertical-align: middle;\n",
              "    }\n",
              "\n",
              "    .dataframe tbody tr th {\n",
              "        vertical-align: top;\n",
              "    }\n",
              "\n",
              "    .dataframe thead th {\n",
              "        text-align: right;\n",
              "    }\n",
              "</style>\n",
              "<table border=\"1\" class=\"dataframe\">\n",
              "  <thead>\n",
              "    <tr style=\"text-align: right;\">\n",
              "      <th></th>\n",
              "      <th>Pregnancies</th>\n",
              "      <th>Glucose</th>\n",
              "      <th>BloodPressure</th>\n",
              "      <th>SkinThickness</th>\n",
              "      <th>Insulin</th>\n",
              "      <th>BMI</th>\n",
              "      <th>DiabetesPedigreeFunction</th>\n",
              "      <th>Age</th>\n",
              "    </tr>\n",
              "  </thead>\n",
              "  <tbody>\n",
              "    <tr>\n",
              "      <th>0</th>\n",
              "      <td>0.352941</td>\n",
              "      <td>0.743719</td>\n",
              "      <td>0.590164</td>\n",
              "      <td>0.353535</td>\n",
              "      <td>0.000000</td>\n",
              "      <td>0.500745</td>\n",
              "      <td>0.234415</td>\n",
              "      <td>0.483333</td>\n",
              "    </tr>\n",
              "    <tr>\n",
              "      <th>1</th>\n",
              "      <td>0.058824</td>\n",
              "      <td>0.427136</td>\n",
              "      <td>0.540984</td>\n",
              "      <td>0.292929</td>\n",
              "      <td>0.000000</td>\n",
              "      <td>0.396423</td>\n",
              "      <td>0.116567</td>\n",
              "      <td>0.166667</td>\n",
              "    </tr>\n",
              "    <tr>\n",
              "      <th>2</th>\n",
              "      <td>0.470588</td>\n",
              "      <td>0.919598</td>\n",
              "      <td>0.524590</td>\n",
              "      <td>0.000000</td>\n",
              "      <td>0.000000</td>\n",
              "      <td>0.347243</td>\n",
              "      <td>0.253629</td>\n",
              "      <td>0.183333</td>\n",
              "    </tr>\n",
              "    <tr>\n",
              "      <th>3</th>\n",
              "      <td>0.058824</td>\n",
              "      <td>0.447236</td>\n",
              "      <td>0.540984</td>\n",
              "      <td>0.232323</td>\n",
              "      <td>0.111111</td>\n",
              "      <td>0.418778</td>\n",
              "      <td>0.038002</td>\n",
              "      <td>0.000000</td>\n",
              "    </tr>\n",
              "    <tr>\n",
              "      <th>4</th>\n",
              "      <td>0.000000</td>\n",
              "      <td>0.688442</td>\n",
              "      <td>0.327869</td>\n",
              "      <td>0.353535</td>\n",
              "      <td>0.198582</td>\n",
              "      <td>0.642325</td>\n",
              "      <td>0.943638</td>\n",
              "      <td>0.200000</td>\n",
              "    </tr>\n",
              "  </tbody>\n",
              "</table>\n",
              "</div>"
            ],
            "text/plain": [
              "   Pregnancies   Glucose  ...  DiabetesPedigreeFunction       Age\n",
              "0     0.352941  0.743719  ...                  0.234415  0.483333\n",
              "1     0.058824  0.427136  ...                  0.116567  0.166667\n",
              "2     0.470588  0.919598  ...                  0.253629  0.183333\n",
              "3     0.058824  0.447236  ...                  0.038002  0.000000\n",
              "4     0.000000  0.688442  ...                  0.943638  0.200000\n",
              "\n",
              "[5 rows x 8 columns]"
            ]
          },
          "metadata": {
            "tags": []
          },
          "execution_count": 270
        }
      ]
    },
    {
      "cell_type": "code",
      "metadata": {
        "colab": {
          "base_uri": "https://localhost:8080/"
        },
        "id": "uG2PhG1pHRXH",
        "outputId": "1863b1f8-57eb-4a71-8b80-32e25fdda1c8"
      },
      "source": [
        "y.head()"
      ],
      "execution_count": 262,
      "outputs": [
        {
          "output_type": "execute_result",
          "data": {
            "text/plain": [
              "0    1\n",
              "1    0\n",
              "2    1\n",
              "3    0\n",
              "4    1\n",
              "Name: Outcome, dtype: int64"
            ]
          },
          "metadata": {
            "tags": []
          },
          "execution_count": 262
        }
      ]
    },
    {
      "cell_type": "code",
      "metadata": {
        "id": "8t2KCajXID9m"
      },
      "source": [
        "import keras\n",
        "from keras.models import Sequential\n",
        "from keras.layers import Dense"
      ],
      "execution_count": 264,
      "outputs": []
    },
    {
      "cell_type": "code",
      "metadata": {
        "id": "ovcpnTlwLCth"
      },
      "source": [
        "classifier=Sequential()\n",
        "xtrain, xtest,ytrain,ytest=train_test_split(x,y, test_size=0.3)"
      ],
      "execution_count": 271,
      "outputs": []
    },
    {
      "cell_type": "code",
      "metadata": {
        "colab": {
          "base_uri": "https://localhost:8080/"
        },
        "id": "tq32fxt3L4Zr",
        "outputId": "8a40b209-6c06-48ca-9a1e-a4d6c79ed62d"
      },
      "source": [
        "len(xtrain)"
      ],
      "execution_count": 272,
      "outputs": [
        {
          "output_type": "execute_result",
          "data": {
            "text/plain": [
              "537"
            ]
          },
          "metadata": {
            "tags": []
          },
          "execution_count": 272
        }
      ]
    },
    {
      "cell_type": "code",
      "metadata": {
        "id": "xndAx5lZLhS4"
      },
      "source": [
        "classifier.add(Dense(activation='relu', input_dim=8, units=5,kernel_initializer='uniform'))\n",
        "classifier.add(Dense(activation='relu', units=5, kernel_initializer='uniform'))\n",
        "classifier.add(Dense(activation='sigmoid', units=1, kernel_initializer='uniform'))\n"
      ],
      "execution_count": 275,
      "outputs": []
    },
    {
      "cell_type": "code",
      "metadata": {
        "id": "fxRsPzbsa2h5"
      },
      "source": [
        "#commpile the ANN\n",
        "classifier.compile(optimizer='adam', loss='binary_crossentropy', metrics=['accuracy'])\n"
      ],
      "execution_count": 276,
      "outputs": []
    },
    {
      "cell_type": "code",
      "metadata": {
        "colab": {
          "base_uri": "https://localhost:8080/"
        },
        "id": "gVO-j7C7bGDk",
        "outputId": "9c50936a-16df-49cf-d545-02ae90dabb18"
      },
      "source": [
        "classifier.fit(xtrain, ytrain, epochs=100)"
      ],
      "execution_count": 278,
      "outputs": [
        {
          "output_type": "stream",
          "text": [
            "Epoch 1/100\n",
            "17/17 [==============================] - 0s 2ms/step - loss: 0.6773 - accuracy: 0.6611\n",
            "Epoch 2/100\n",
            "17/17 [==============================] - 0s 2ms/step - loss: 0.6733 - accuracy: 0.6611\n",
            "Epoch 3/100\n",
            "17/17 [==============================] - 0s 2ms/step - loss: 0.6687 - accuracy: 0.6611\n",
            "Epoch 4/100\n",
            "17/17 [==============================] - 0s 2ms/step - loss: 0.6631 - accuracy: 0.6611\n",
            "Epoch 5/100\n",
            "17/17 [==============================] - 0s 2ms/step - loss: 0.6582 - accuracy: 0.6611\n",
            "Epoch 6/100\n",
            "17/17 [==============================] - 0s 2ms/step - loss: 0.6538 - accuracy: 0.6611\n",
            "Epoch 7/100\n",
            "17/17 [==============================] - 0s 2ms/step - loss: 0.6511 - accuracy: 0.6611\n",
            "Epoch 8/100\n",
            "17/17 [==============================] - 0s 2ms/step - loss: 0.6493 - accuracy: 0.6611\n",
            "Epoch 9/100\n",
            "17/17 [==============================] - 0s 2ms/step - loss: 0.6478 - accuracy: 0.6611\n",
            "Epoch 10/100\n",
            "17/17 [==============================] - 0s 2ms/step - loss: 0.6467 - accuracy: 0.6611\n",
            "Epoch 11/100\n",
            "17/17 [==============================] - 0s 2ms/step - loss: 0.6454 - accuracy: 0.6611\n",
            "Epoch 12/100\n",
            "17/17 [==============================] - 0s 2ms/step - loss: 0.6442 - accuracy: 0.6611\n",
            "Epoch 13/100\n",
            "17/17 [==============================] - 0s 2ms/step - loss: 0.6429 - accuracy: 0.6611\n",
            "Epoch 14/100\n",
            "17/17 [==============================] - 0s 2ms/step - loss: 0.6418 - accuracy: 0.6611\n",
            "Epoch 15/100\n",
            "17/17 [==============================] - 0s 2ms/step - loss: 0.6406 - accuracy: 0.6611\n",
            "Epoch 16/100\n",
            "17/17 [==============================] - 0s 2ms/step - loss: 0.6391 - accuracy: 0.6611\n",
            "Epoch 17/100\n",
            "17/17 [==============================] - 0s 2ms/step - loss: 0.6376 - accuracy: 0.6611\n",
            "Epoch 18/100\n",
            "17/17 [==============================] - 0s 2ms/step - loss: 0.6357 - accuracy: 0.6611\n",
            "Epoch 19/100\n",
            "17/17 [==============================] - 0s 2ms/step - loss: 0.6351 - accuracy: 0.6611\n",
            "Epoch 20/100\n",
            "17/17 [==============================] - 0s 1ms/step - loss: 0.6326 - accuracy: 0.6611\n",
            "Epoch 21/100\n",
            "17/17 [==============================] - 0s 2ms/step - loss: 0.6304 - accuracy: 0.6611\n",
            "Epoch 22/100\n",
            "17/17 [==============================] - 0s 2ms/step - loss: 0.6281 - accuracy: 0.6611\n",
            "Epoch 23/100\n",
            "17/17 [==============================] - 0s 2ms/step - loss: 0.6259 - accuracy: 0.6611\n",
            "Epoch 24/100\n",
            "17/17 [==============================] - 0s 1ms/step - loss: 0.6235 - accuracy: 0.6611\n",
            "Epoch 25/100\n",
            "17/17 [==============================] - 0s 1ms/step - loss: 0.6213 - accuracy: 0.6611\n",
            "Epoch 26/100\n",
            "17/17 [==============================] - 0s 2ms/step - loss: 0.6185 - accuracy: 0.6611\n",
            "Epoch 27/100\n",
            "17/17 [==============================] - 0s 1ms/step - loss: 0.6161 - accuracy: 0.6611\n",
            "Epoch 28/100\n",
            "17/17 [==============================] - 0s 2ms/step - loss: 0.6127 - accuracy: 0.6611\n",
            "Epoch 29/100\n",
            "17/17 [==============================] - 0s 1ms/step - loss: 0.6103 - accuracy: 0.6611\n",
            "Epoch 30/100\n",
            "17/17 [==============================] - 0s 1ms/step - loss: 0.6069 - accuracy: 0.6629\n",
            "Epoch 31/100\n",
            "17/17 [==============================] - 0s 2ms/step - loss: 0.6036 - accuracy: 0.6629\n",
            "Epoch 32/100\n",
            "17/17 [==============================] - 0s 2ms/step - loss: 0.6003 - accuracy: 0.6592\n",
            "Epoch 33/100\n",
            "17/17 [==============================] - 0s 1ms/step - loss: 0.5975 - accuracy: 0.6629\n",
            "Epoch 34/100\n",
            "17/17 [==============================] - 0s 1ms/step - loss: 0.5937 - accuracy: 0.6667\n",
            "Epoch 35/100\n",
            "17/17 [==============================] - 0s 1ms/step - loss: 0.5906 - accuracy: 0.6741\n",
            "Epoch 36/100\n",
            "17/17 [==============================] - 0s 2ms/step - loss: 0.5876 - accuracy: 0.6853\n",
            "Epoch 37/100\n",
            "17/17 [==============================] - 0s 2ms/step - loss: 0.5843 - accuracy: 0.6834\n",
            "Epoch 38/100\n",
            "17/17 [==============================] - 0s 1ms/step - loss: 0.5818 - accuracy: 0.6909\n",
            "Epoch 39/100\n",
            "17/17 [==============================] - 0s 2ms/step - loss: 0.5779 - accuracy: 0.6909\n",
            "Epoch 40/100\n",
            "17/17 [==============================] - 0s 2ms/step - loss: 0.5747 - accuracy: 0.6927\n",
            "Epoch 41/100\n",
            "17/17 [==============================] - 0s 1ms/step - loss: 0.5720 - accuracy: 0.6927\n",
            "Epoch 42/100\n",
            "17/17 [==============================] - 0s 1ms/step - loss: 0.5694 - accuracy: 0.6909\n",
            "Epoch 43/100\n",
            "17/17 [==============================] - 0s 2ms/step - loss: 0.5664 - accuracy: 0.6965\n",
            "Epoch 44/100\n",
            "17/17 [==============================] - 0s 2ms/step - loss: 0.5636 - accuracy: 0.7002\n",
            "Epoch 45/100\n",
            "17/17 [==============================] - 0s 2ms/step - loss: 0.5611 - accuracy: 0.7114\n",
            "Epoch 46/100\n",
            "17/17 [==============================] - 0s 2ms/step - loss: 0.5590 - accuracy: 0.7039\n",
            "Epoch 47/100\n",
            "17/17 [==============================] - 0s 1ms/step - loss: 0.5569 - accuracy: 0.7095\n",
            "Epoch 48/100\n",
            "17/17 [==============================] - 0s 2ms/step - loss: 0.5540 - accuracy: 0.7132\n",
            "Epoch 49/100\n",
            "17/17 [==============================] - 0s 2ms/step - loss: 0.5528 - accuracy: 0.7151\n",
            "Epoch 50/100\n",
            "17/17 [==============================] - 0s 2ms/step - loss: 0.5508 - accuracy: 0.7114\n",
            "Epoch 51/100\n",
            "17/17 [==============================] - 0s 2ms/step - loss: 0.5480 - accuracy: 0.7169\n",
            "Epoch 52/100\n",
            "17/17 [==============================] - 0s 2ms/step - loss: 0.5455 - accuracy: 0.7151\n",
            "Epoch 53/100\n",
            "17/17 [==============================] - 0s 2ms/step - loss: 0.5437 - accuracy: 0.7169\n",
            "Epoch 54/100\n",
            "17/17 [==============================] - 0s 2ms/step - loss: 0.5423 - accuracy: 0.7188\n",
            "Epoch 55/100\n",
            "17/17 [==============================] - 0s 1ms/step - loss: 0.5401 - accuracy: 0.7244\n",
            "Epoch 56/100\n",
            "17/17 [==============================] - 0s 2ms/step - loss: 0.5385 - accuracy: 0.7225\n",
            "Epoch 57/100\n",
            "17/17 [==============================] - 0s 2ms/step - loss: 0.5374 - accuracy: 0.7281\n",
            "Epoch 58/100\n",
            "17/17 [==============================] - 0s 1ms/step - loss: 0.5350 - accuracy: 0.7207\n",
            "Epoch 59/100\n",
            "17/17 [==============================] - 0s 1ms/step - loss: 0.5342 - accuracy: 0.7188\n",
            "Epoch 60/100\n",
            "17/17 [==============================] - 0s 1ms/step - loss: 0.5323 - accuracy: 0.7225\n",
            "Epoch 61/100\n",
            "17/17 [==============================] - 0s 2ms/step - loss: 0.5305 - accuracy: 0.7225\n",
            "Epoch 62/100\n",
            "17/17 [==============================] - 0s 2ms/step - loss: 0.5295 - accuracy: 0.7225\n",
            "Epoch 63/100\n",
            "17/17 [==============================] - 0s 2ms/step - loss: 0.5274 - accuracy: 0.7263\n",
            "Epoch 64/100\n",
            "17/17 [==============================] - 0s 2ms/step - loss: 0.5263 - accuracy: 0.7225\n",
            "Epoch 65/100\n",
            "17/17 [==============================] - 0s 2ms/step - loss: 0.5247 - accuracy: 0.7244\n",
            "Epoch 66/100\n",
            "17/17 [==============================] - 0s 2ms/step - loss: 0.5238 - accuracy: 0.7318\n",
            "Epoch 67/100\n",
            "17/17 [==============================] - 0s 1ms/step - loss: 0.5235 - accuracy: 0.7244\n",
            "Epoch 68/100\n",
            "17/17 [==============================] - 0s 1ms/step - loss: 0.5220 - accuracy: 0.7300\n",
            "Epoch 69/100\n",
            "17/17 [==============================] - 0s 2ms/step - loss: 0.5199 - accuracy: 0.7300\n",
            "Epoch 70/100\n",
            "17/17 [==============================] - 0s 1ms/step - loss: 0.5192 - accuracy: 0.7318\n",
            "Epoch 71/100\n",
            "17/17 [==============================] - 0s 2ms/step - loss: 0.5175 - accuracy: 0.7300\n",
            "Epoch 72/100\n",
            "17/17 [==============================] - 0s 1ms/step - loss: 0.5155 - accuracy: 0.7337\n",
            "Epoch 73/100\n",
            "17/17 [==============================] - 0s 1ms/step - loss: 0.5149 - accuracy: 0.7393\n",
            "Epoch 74/100\n",
            "17/17 [==============================] - 0s 2ms/step - loss: 0.5138 - accuracy: 0.7337\n",
            "Epoch 75/100\n",
            "17/17 [==============================] - 0s 1ms/step - loss: 0.5130 - accuracy: 0.7318\n",
            "Epoch 76/100\n",
            "17/17 [==============================] - 0s 2ms/step - loss: 0.5112 - accuracy: 0.7356\n",
            "Epoch 77/100\n",
            "17/17 [==============================] - 0s 1ms/step - loss: 0.5104 - accuracy: 0.7374\n",
            "Epoch 78/100\n",
            "17/17 [==============================] - 0s 2ms/step - loss: 0.5095 - accuracy: 0.7356\n",
            "Epoch 79/100\n",
            "17/17 [==============================] - 0s 2ms/step - loss: 0.5092 - accuracy: 0.7393\n",
            "Epoch 80/100\n",
            "17/17 [==============================] - 0s 2ms/step - loss: 0.5071 - accuracy: 0.7374\n",
            "Epoch 81/100\n",
            "17/17 [==============================] - 0s 2ms/step - loss: 0.5065 - accuracy: 0.7430\n",
            "Epoch 82/100\n",
            "17/17 [==============================] - 0s 1ms/step - loss: 0.5054 - accuracy: 0.7393\n",
            "Epoch 83/100\n",
            "17/17 [==============================] - 0s 2ms/step - loss: 0.5043 - accuracy: 0.7412\n",
            "Epoch 84/100\n",
            "17/17 [==============================] - 0s 2ms/step - loss: 0.5036 - accuracy: 0.7449\n",
            "Epoch 85/100\n",
            "17/17 [==============================] - 0s 1ms/step - loss: 0.5027 - accuracy: 0.7449\n",
            "Epoch 86/100\n",
            "17/17 [==============================] - 0s 2ms/step - loss: 0.5021 - accuracy: 0.7430\n",
            "Epoch 87/100\n",
            "17/17 [==============================] - 0s 1ms/step - loss: 0.5009 - accuracy: 0.7486\n",
            "Epoch 88/100\n",
            "17/17 [==============================] - 0s 1ms/step - loss: 0.5007 - accuracy: 0.7467\n",
            "Epoch 89/100\n",
            "17/17 [==============================] - 0s 2ms/step - loss: 0.4994 - accuracy: 0.7505\n",
            "Epoch 90/100\n",
            "17/17 [==============================] - 0s 2ms/step - loss: 0.4982 - accuracy: 0.7561\n",
            "Epoch 91/100\n",
            "17/17 [==============================] - 0s 2ms/step - loss: 0.4979 - accuracy: 0.7542\n",
            "Epoch 92/100\n",
            "17/17 [==============================] - 0s 1ms/step - loss: 0.4973 - accuracy: 0.7505\n",
            "Epoch 93/100\n",
            "17/17 [==============================] - 0s 1ms/step - loss: 0.4968 - accuracy: 0.7523\n",
            "Epoch 94/100\n",
            "17/17 [==============================] - 0s 2ms/step - loss: 0.4958 - accuracy: 0.7542\n",
            "Epoch 95/100\n",
            "17/17 [==============================] - 0s 2ms/step - loss: 0.4944 - accuracy: 0.7579\n",
            "Epoch 96/100\n",
            "17/17 [==============================] - 0s 1ms/step - loss: 0.4947 - accuracy: 0.7579\n",
            "Epoch 97/100\n",
            "17/17 [==============================] - 0s 2ms/step - loss: 0.4929 - accuracy: 0.7598\n",
            "Epoch 98/100\n",
            "17/17 [==============================] - 0s 2ms/step - loss: 0.4939 - accuracy: 0.7598\n",
            "Epoch 99/100\n",
            "17/17 [==============================] - 0s 1ms/step - loss: 0.4917 - accuracy: 0.7598\n",
            "Epoch 100/100\n",
            "17/17 [==============================] - 0s 2ms/step - loss: 0.4918 - accuracy: 0.7579\n"
          ],
          "name": "stdout"
        },
        {
          "output_type": "execute_result",
          "data": {
            "text/plain": [
              "<keras.callbacks.History at 0x7ffaaab18650>"
            ]
          },
          "metadata": {
            "tags": []
          },
          "execution_count": 278
        }
      ]
    },
    {
      "cell_type": "code",
      "metadata": {
        "colab": {
          "base_uri": "https://localhost:8080/"
        },
        "id": "y_zusEv6bMhE",
        "outputId": "52aa4ac7-355a-4731-8106-701ce10d4bfd"
      },
      "source": [
        "yp=classifier.predict(xtest)\n",
        "yp[:5]"
      ],
      "execution_count": 280,
      "outputs": [
        {
          "output_type": "execute_result",
          "data": {
            "text/plain": [
              "array([[0.19608998],\n",
              "       [0.6095198 ],\n",
              "       [0.17540663],\n",
              "       [0.25739712],\n",
              "       [0.05888391]], dtype=float32)"
            ]
          },
          "metadata": {
            "tags": []
          },
          "execution_count": 280
        }
      ]
    },
    {
      "cell_type": "code",
      "metadata": {
        "id": "YQTiEY3sbmjE"
      },
      "source": [
        "y_pred=[]\n",
        "for i in yp:\n",
        "  if i>0.5:\n",
        "    y_pred.append(1)\n",
        "  else:\n",
        "    y_pred.append(0)"
      ],
      "execution_count": 281,
      "outputs": []
    },
    {
      "cell_type": "code",
      "metadata": {
        "colab": {
          "base_uri": "https://localhost:8080/"
        },
        "id": "vBgBvOgvb0Jg",
        "outputId": "136c3b59-04b5-41a5-c3ad-5860c98000a5"
      },
      "source": [
        "y_pred[:10]"
      ],
      "execution_count": 282,
      "outputs": [
        {
          "output_type": "execute_result",
          "data": {
            "text/plain": [
              "[0, 1, 0, 0, 0, 1, 1, 0, 0, 1]"
            ]
          },
          "metadata": {
            "tags": []
          },
          "execution_count": 282
        }
      ]
    },
    {
      "cell_type": "code",
      "metadata": {
        "colab": {
          "base_uri": "https://localhost:8080/"
        },
        "id": "OVFQ0Yrrb2DI",
        "outputId": "2ffbde31-c538-483b-d08a-a7096dc114a9"
      },
      "source": [
        "print(classification_report(ytest, y_pred))"
      ],
      "execution_count": 283,
      "outputs": [
        {
          "output_type": "stream",
          "text": [
            "              precision    recall  f1-score   support\n",
            "\n",
            "           0       0.74      0.86      0.80       145\n",
            "           1       0.68      0.50      0.58        86\n",
            "\n",
            "    accuracy                           0.73       231\n",
            "   macro avg       0.71      0.68      0.69       231\n",
            "weighted avg       0.72      0.73      0.72       231\n",
            "\n"
          ],
          "name": "stdout"
        }
      ]
    },
    {
      "cell_type": "code",
      "metadata": {
        "id": "4WX_k37-b6dU"
      },
      "source": [
        ""
      ],
      "execution_count": null,
      "outputs": []
    }
  ]
}